{
 "metadata": {
  "language_info": {
   "codemirror_mode": {
    "name": "ipython",
    "version": 3
   },
   "file_extension": ".py",
   "mimetype": "text/x-python",
   "name": "python",
   "nbconvert_exporter": "python",
   "pygments_lexer": "ipython3",
   "version": "3.6.5"
  },
  "orig_nbformat": 4,
  "kernelspec": {
   "name": "python3",
   "display_name": "Python 3.6.5 64-bit"
  },
  "interpreter": {
   "hash": "07efdcd4b820c98a756949507a4d29d7862823915ec7477944641bea022f4f62"
  }
 },
 "nbformat": 4,
 "nbformat_minor": 2,
 "cells": [
  {
   "cell_type": "code",
   "execution_count": 11,
   "source": [
    "cheese = \"Gouda\"\r\n",
    "\r\n",
    "def make_omlette():\r\n",
    "    global cheese\r\n",
    "    cheese = \"Cheddar\"\r\n",
    "    print(\"a {} omlette\".format(cheese))\r\n",
    "\r\n",
    "def make_pancake():\r\n",
    "    print(\"a {} pancake\".format(cheese))"
   ],
   "outputs": [],
   "metadata": {}
  },
  {
   "cell_type": "code",
   "execution_count": 12,
   "source": [
    "make_omlette()\r\n",
    "make_pancake()"
   ],
   "outputs": [
    {
     "output_type": "stream",
     "name": "stdout",
     "text": [
      "a Cheddar omlette\n",
      "a Gouda pancake\n"
     ]
    }
   ],
   "metadata": {}
  },
  {
   "cell_type": "code",
   "execution_count": 18,
   "source": [
    "def cook(*ingredients):\r\n",
    "    number = len(ingredients)\r\n",
    "    print(\"we cooked with {} ingredients\".format(number))\r\n",
    "    print(type(ingredients))\r\n",
    "    for item in ingredients:\r\n",
    "        print(item)\r\n",
    "    return \"a\", \"b\"\r\n"
   ],
   "outputs": [],
   "metadata": {}
  },
  {
   "cell_type": "code",
   "execution_count": 19,
   "source": [
    "cook(\"tomato\", \"onion\", \"meat\")\r\n"
   ],
   "outputs": [
    {
     "output_type": "stream",
     "name": "stdout",
     "text": [
      "we cooked with 3 ingredients\n",
      "<class 'tuple'>\n",
      "tomato\n",
      "onion\n",
      "meat\n"
     ]
    }
   ],
   "metadata": {}
  },
  {
   "cell_type": "code",
   "execution_count": 16,
   "source": [
    "class Car:\r\n",
    "    no_of_cars = 0\r\n",
    "    def __init__(self, color):\r\n",
    "        self.color = color\r\n",
    "        self.used = False\r\n",
    "        Car.no_of_cars +=1\r\n",
    "\r\n",
    "    def drive(self):\r\n",
    "        self.used = True\r\n",
    "        print(\"Beep Beep\")\r\n",
    "\r\n",
    "    \"\"\" def __str__(self):\r\n",
    "        return f\"This is a {self.color} colored car\" \"\"\""
   ],
   "outputs": [],
   "metadata": {}
  },
  {
   "cell_type": "code",
   "execution_count": 17,
   "source": [
    "red_car = Car(\"red\")\r\n",
    "red_car2 = Car(\"red\")\r\n",
    "original_red_car = red_car\r\n",
    "\r\n",
    "check = red_car is red_car2\r\n",
    "check2 = red_car is original_red_car\r\n",
    "\r\n",
    "print(red_car)\r\n"
   ],
   "outputs": [
    {
     "output_type": "stream",
     "name": "stdout",
     "text": [
      "<__main__.Car object at 0x000001DEC5758780>\n"
     ]
    }
   ],
   "metadata": {}
  },
  {
   "cell_type": "code",
   "execution_count": 25,
   "source": [
    "my_dict = dict()\r\n",
    "my_dict[\"name\"] = \"Aly\"\r\n",
    "my_dict[\"Age\"] = 26\r\n",
    "\r\n",
    "for (key, value) in my_dict.items():\r\n",
    "    print(key, value)\r\n",
    "dir(my_dict)"
   ],
   "outputs": [
    {
     "output_type": "stream",
     "name": "stdout",
     "text": [
      "name Aly\n",
      "Age 26\n"
     ]
    },
    {
     "output_type": "execute_result",
     "data": {
      "text/plain": [
       "['__class__',\n",
       " '__contains__',\n",
       " '__delattr__',\n",
       " '__delitem__',\n",
       " '__dir__',\n",
       " '__doc__',\n",
       " '__eq__',\n",
       " '__format__',\n",
       " '__ge__',\n",
       " '__getattribute__',\n",
       " '__getitem__',\n",
       " '__gt__',\n",
       " '__hash__',\n",
       " '__init__',\n",
       " '__init_subclass__',\n",
       " '__iter__',\n",
       " '__le__',\n",
       " '__len__',\n",
       " '__lt__',\n",
       " '__ne__',\n",
       " '__new__',\n",
       " '__reduce__',\n",
       " '__reduce_ex__',\n",
       " '__repr__',\n",
       " '__setattr__',\n",
       " '__setitem__',\n",
       " '__sizeof__',\n",
       " '__str__',\n",
       " '__subclasshook__',\n",
       " 'clear',\n",
       " 'copy',\n",
       " 'fromkeys',\n",
       " 'get',\n",
       " 'items',\n",
       " 'keys',\n",
       " 'pop',\n",
       " 'popitem',\n",
       " 'setdefault',\n",
       " 'update',\n",
       " 'values']"
      ]
     },
     "metadata": {},
     "execution_count": 25
    }
   ],
   "metadata": {}
  },
  {
   "cell_type": "code",
   "execution_count": 28,
   "source": [
    "from math import *\r\n",
    "\r\n",
    "PI = pi\r\n",
    "print(PI)"
   ],
   "outputs": [
    {
     "output_type": "stream",
     "name": "stdout",
     "text": [
      "3.141592653589793\n"
     ]
    }
   ],
   "metadata": {}
  }
 ]
}