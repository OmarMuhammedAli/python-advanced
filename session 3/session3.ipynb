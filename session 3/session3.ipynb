{
 "cells": [
  {
   "cell_type": "markdown",
   "source": [],
   "metadata": {}
  },
  {
   "cell_type": "code",
   "execution_count": null,
   "source": [
    "# Pipeline Showcase!\r\n",
    "\r\n",
    "def pipeline_component(func, data, args):\r\n",
    "    return func(data, *args)\r\n",
    "\r\n",
    "\r\n",
    "def pipeline(data: list, components: list):\r\n",
    "\r\n",
    "    # Python treats list, dict, tuple, and set objects as passed reference, thus\r\n",
    "    # in order to not modify the previous state, we make a local copy\r\n",
    "    if (\r\n",
    "        isinstance(data, list)\r\n",
    "        or\r\n",
    "        isinstance(data, tuple)\r\n",
    "        or \r\n",
    "        isinstance(data, set)\r\n",
    "        or \r\n",
    "        isinstance(data, dict)\r\n",
    "    ):\r\n",
    "        __data = data.copy()\r\n",
    "    else:\r\n",
    "        __data = data\r\n",
    "    # A mapping of different filters possible\r\n",
    "    function_mappings = {\r\n",
    "        \"square\": square,\r\n",
    "        \"cube\": cube,\r\n",
    "        \"add\": add,\r\n",
    "        # Simply add the mapping of a new function,\r\n",
    "        # nothing else will really need to changed\r\n",
    "    }\r\n",
    "\r\n",
    "    # Going through each of the components\r\n",
    "    for component in components:\r\n",
    "\r\n",
    "        # If component is simply empty, continue to next\r\n",
    "        # iteration\r\n",
    "        if component == {}:\r\n",
    "            continue\r\n",
    "\r\n",
    "        # Send to pipeline component, return data to `__data`\r\n",
    "        __data = pipeline_component(\r\n",
    "            # Map function respectively using the function_mappings dictionary\r\n",
    "            func=function_mappings[f'{component[\"filter\"]}'],\r\n",
    "            # Send over the data\r\n",
    "            data=__data,\r\n",
    "            # Except the filter name, select the rest as args\r\n",
    "            args=tuple(list(component.values())[1:]),\r\n",
    "        )\r\n",
    "\r\n",
    "    # Return the data\r\n",
    "    return __data\r\n",
    "\r\n",
    "def add(x, y):\r\n",
    "    return x + y\r\n",
    "\r\n",
    "data = pipeline(\r\n",
    "    data=2,\r\n",
    "    components=[\r\n",
    "        {\"filter\": \"square\"},\r\n",
    "        {\"filter\": \"cube\"},\r\n",
    "        {\"filter\": \"add\", \"num\": 3},\r\n",
    "    ]\r\n",
    ")\r\n",
    "print(data)\r\n"
   ],
   "outputs": [],
   "metadata": {}
  },
  {
   "cell_type": "markdown",
   "source": [
    "## Decorators\r\n",
    "Decorators are a way to modify the behavior of a function without modifying the function itself. It takes a function as a parameter and returns a modified function with the altered/added behavior."
   ],
   "metadata": {}
  },
  {
   "cell_type": "code",
   "execution_count": null,
   "source": [
    "def decorator_function(original_function):\r\n",
    "    def wrapper_function():\r\n",
    "        print('wrapper executed this before \"{}\"'.format(original_function.__name__))\r\n",
    "        return original_function()\r\n",
    "    return wrapper_function\r\n",
    "\r\n",
    "def display():\r\n",
    "    print('display function ran')\r\n",
    "\r\n",
    "decorated_display = decorator_function(display)\r\n",
    "decorated_display()\r\n",
    "\r\n",
    "# ! This is kinda a wacky syntax, decorators can be way cooler than this!"
   ],
   "outputs": [],
   "metadata": {}
  },
  {
   "cell_type": "code",
   "execution_count": null,
   "source": [
    "# ! Behold, the cooler way to do this!\r\n",
    "@decorator_function\r\n",
    "def display():\r\n",
    "    print('display function ran')\r\n",
    "\r\n",
    "display()"
   ],
   "outputs": [],
   "metadata": {}
  },
  {
   "cell_type": "code",
   "execution_count": null,
   "source": [
    "# What if we want to decorate a function that already has arguments?\r\n",
    "def display_info(name, age):\r\n",
    "    print('display_info ran with arguments ({}, {})'.format(name, age))\r\n",
    "\r\n",
    "display_info('Omar', 22)\r\n",
    "\r\n",
    "# Let's try decorating it with the decorator_function decortor\r\n",
    "@decorator_function\r\n",
    "def display_info_with_arguments(name, age):\r\n",
    "    print('display_info_with_arguments ran with arguments ({}, {})'.format(name, age))\r\n",
    "\r\n",
    "display_info_with_arguments('Omar', 22)\r\n",
    "\r\n",
    "# Will this work? why/why not? No, it won't work because wrapper function does not\r\n",
    "# accept any args!\r\n"
   ],
   "outputs": [],
   "metadata": {}
  },
  {
   "cell_type": "code",
   "execution_count": null,
   "source": [
    "def decorator_function_with_parameters(original_function):\r\n",
    "    def wrapper_function(*args, **kwargs):\r\n",
    "        print('wrapper executed this before \"{}\"'.format(original_function.__name__))\r\n",
    "        return original_function(*args, **kwargs)\r\n",
    "    return wrapper_function\r\n",
    "\r\n",
    "# Let's try decorating it with the new decortor now\r\n",
    "@decorator_function_with_parameters\r\n",
    "def display_info(name, age):\r\n",
    "    print('display_info ran with arguments ({}, {})'.format(name, age))\r\n",
    "\r\n",
    "display_info('Omar', 22)"
   ],
   "outputs": [],
   "metadata": {}
  },
  {
   "cell_type": "markdown",
   "source": [
    "## Decorators as Classes"
   ],
   "metadata": {}
  },
  {
   "cell_type": "code",
   "execution_count": null,
   "source": [
    "# Decorator class\r\n",
    "class decorator_class(object):\r\n",
    "    def __init__(self, original_function):\r\n",
    "        self.original_function = original_function\r\n",
    "    \r\n",
    "    def __call__(self, *args, **kwargs):\r\n",
    "        print('call method executed this before \"{}\"'.format(self.original_function.__name__))\r\n",
    "        return self.original_function(*args, **kwargs)\r\n",
    "    \r\n",
    "# Let's try decorating it with the new decortor class now\r\n",
    "@decorator_class\r\n",
    "def display_info(name, age):\r\n",
    "    print('display_info ran with arguments ({}, {})'.format(name, age))\r\n",
    "\r\n",
    "display_info('Omar', 22)\r\n"
   ],
   "outputs": [],
   "metadata": {}
  },
  {
   "cell_type": "markdown",
   "source": [
    "### Practical Examples for Using Decorators"
   ],
   "metadata": {}
  },
  {
   "cell_type": "code",
   "execution_count": null,
   "source": [
    "# Keeping track of different functions activities using logging\r\n",
    "from functools import wraps\r\n",
    "def logger(func):\r\n",
    "    import logging\r\n",
    "    logging.basicConfig(filename=f'{func.__name__}.log', level=logging.INFO)\r\n",
    "\r\n",
    "    @wraps(func)\r\n",
    "    def wrapper(*args, **kwargs):\r\n",
    "        logging.info(f'Ran with args: {args}, and kwargs: {kwargs}')\r\n",
    "        return func(*args, **kwargs)\r\n",
    "    return wrapper\r\n",
    "\r\n",
    "@logger\r\n",
    "def display_info(name, age):\r\n",
    "    print('display_info ran with arguments ({}, {})'.format(name, age))\r\n",
    "\r\n",
    "display_info('Aya', 18)\r\n",
    "display_info('Mariam', 21)\r\n"
   ],
   "outputs": [],
   "metadata": {}
  },
  {
   "cell_type": "code",
   "execution_count": null,
   "source": [
    "# Track the time it takes to run a function\r\n",
    "\r\n",
    "from time import time, sleep\r\n",
    "\r\n",
    "def time_it(func):\r\n",
    "    print(func.__name__)\r\n",
    "\r\n",
    "    @wraps(func)\r\n",
    "    def wrapper(*args, **kwargs):\r\n",
    "        t1 = time()\r\n",
    "        result = func(*args, **kwargs)\r\n",
    "        t2 = time()\r\n",
    "        print(f'{func.__name__} ran in {t2-t1} seconds')\r\n",
    "        return result\r\n",
    "    return wrapper\r\n",
    "\r\n",
    "@time_it\r\n",
    "def display_info(name, age):\r\n",
    "    sleep(1)\r\n",
    "    print('display_info ran with arguments ({}, {})'.format(name, age))\r\n",
    "\r\n",
    "display_info('Mazen', 22)\r\n"
   ],
   "outputs": [],
   "metadata": {}
  },
  {
   "cell_type": "code",
   "execution_count": null,
   "source": [
    "# Using multiple decorators\r\n",
    "from time import sleep\r\n",
    "\r\n",
    "@time_it\r\n",
    "@logger\r\n",
    "def display_info(name, age):\r\n",
    "    sleep(1)\r\n",
    "    print('display_info ran with arguments ({}, {})'.format(name, age))\r\n",
    "\r\n",
    "display_info('Michael', 20)"
   ],
   "outputs": [],
   "metadata": {}
  },
  {
   "cell_type": "markdown",
   "source": [
    "## Comprehensions\r\n",
    "Comprehensions in Python provide us with a short and concise way to construct new sequences (such as lists, set, dictionary etc.) using sequences which have been already defined.\r\n",
    "Python supports the following 4 types of comprehensions:\r\n",
    "- List Comprehensions\r\n",
    "- Dictionary Comprehensions\r\n",
    "- Set Comprehensions\r\n",
    "- Generator Comprehensions"
   ],
   "metadata": {}
  },
  {
   "cell_type": "markdown",
   "source": [
    "### List Comprehensions"
   ],
   "metadata": {}
  },
  {
   "cell_type": "code",
   "execution_count": null,
   "source": [
    "nums = [1, 2, 3, 4, 5, 6, 7, 8, 9, 10]\r\n",
    "\r\n",
    "# copying nums in another list\r\n",
    "\r\n",
    "new_nums = []\r\n",
    "for num in nums:\r\n",
    "    new_nums.append(num)\r\n",
    "\r\n",
    "print(new_nums)\r\n",
    "\r\n",
    "# using list comprehension\r\n",
    "\r\n",
    "new_nums = [num for num in nums]\r\n",
    "\r\n",
    "squared_nums = []\r\n",
    "for num in nums:\r\n",
    "    squared_nums.append(num ** 2)\r\n",
    "\r\n",
    "print(squared_nums)\r\n",
    "Squared_nums = [num ** 2 for num in nums]\r\n",
    "\r\n",
    "# We could've used map and lambda!\r\n",
    "squared_nums = list(map(lambda num: num ** 2, nums))"
   ],
   "outputs": [],
   "metadata": {}
  },
  {
   "cell_type": "code",
   "execution_count": null,
   "source": [
    "# append each elemen of the list if the element is even\r\n",
    "even_nums = []\r\n",
    "for num in nums:\r\n",
    "    if num % 2 == 0:\r\n",
    "        even_nums.append(num)\r\n",
    "print(even_nums)\r\n",
    "\r\n",
    "even_nums = [num for num in nums if num % 2 == 0]\r\n",
    "\r\n",
    "# using filter\r\n",
    "even_nums = list(filter(lambda num: num % 2 == 0, nums))"
   ],
   "outputs": [],
   "metadata": {}
  },
  {
   "cell_type": "code",
   "execution_count": null,
   "source": [
    "# (letter, number) pair from a string and a range of numbers\r\n",
    "pairs = []\r\n",
    "for letter in 'abcd':\r\n",
    "    for num in range(4):\r\n",
    "        pairs.append((letter, num))\r\n",
    "print(pairs)\r\n",
    "\r\n",
    "pairs = [(letter, num) for letter in 'abcd' for num in range(4)]"
   ],
   "outputs": [],
   "metadata": {}
  },
  {
   "cell_type": "markdown",
   "source": [
    "### Dictionary Comprehensions"
   ],
   "metadata": {}
  },
  {
   "cell_type": "code",
   "execution_count": null,
   "source": [
    "names = [\"Bruce Wayne\", \"Clark Kent\", \"Peter Parker\", \"Logan Howlett\", \"Wade Wilson\"]\r\n",
    "heros = [\"Batman\", \"Superman\", \"Spiderman\", \"Wolverine\", \"Deadpool\"]\r\n",
    "print(list(zip(names, heros)))\r\n",
    "\r\n",
    "heroes_dict = {}\r\n",
    "for name, hero in zip(names, heros):\r\n",
    "    heroes_dict[name] = hero\r\n",
    "print(heroes_dict)\r\n",
    "\r\n",
    "heroes_dict = {name: hero for name, hero in zip(names, heros)}\r\n",
    "\r\n",
    "# If name != 'Peter Parker'\r\n"
   ],
   "outputs": [],
   "metadata": {}
  }
 ],
 "metadata": {
  "orig_nbformat": 4,
  "language_info": {
   "name": "python",
   "version": "3.8.5",
   "mimetype": "text/x-python",
   "codemirror_mode": {
    "name": "ipython",
    "version": 3
   },
   "pygments_lexer": "ipython3",
   "nbconvert_exporter": "python",
   "file_extension": ".py"
  },
  "kernelspec": {
   "name": "python3",
   "display_name": "Python 3.8.5 64-bit"
  },
  "interpreter": {
   "hash": "e404b59586357c814bc0d3940e75d6763c00a48753b225b81f7716971b8e1741"
  }
 },
 "nbformat": 4,
 "nbformat_minor": 2
}