{
 "cells": [
  {
   "cell_type": "markdown",
   "source": [
    "# Generators \r\n",
    "### They are functions that do not return a single value,\r\n",
    "### but return an iterator object with a sequence of values.\r\n",
    "### We can the use the iterator to access all the yielded values."
   ],
   "metadata": {}
  },
  {
   "cell_type": "code",
   "execution_count": 6,
   "source": [
    "# Generator abcs\r\n",
    "\r\n",
    "def generator_function():\r\n",
    "    print('First item')\r\n",
    "    yield 1\r\n",
    "\r\n",
    "    print('Second item')\r\n",
    "    yield 2\r\n",
    "\r\n",
    "    print('Last item')\r\n",
    "    yield 3\r\n",
    "\r\n",
    "func_call = generator_function()\r\n",
    "print (func_call)\r\n",
    "print(next(func_call))\r\n",
    "print(next(func_call))\r\n",
    "print(next(func_call))\r\n",
    "# print(next(func_call))\r\n",
    "\r\n",
    "print(next(generator_function()))\r\n",
    "print(next(generator_function())) # yields first value as it is a new instance"
   ],
   "outputs": [
    {
     "output_type": "stream",
     "name": "stdout",
     "text": [
      "<generator object generator_function at 0x0000016A5E582A50>\n",
      "First item\n",
      "1\n",
      "Second item\n",
      "2\n",
      "Last item\n",
      "3\n",
      "First item\n",
      "1\n",
      "First item\n",
      "1\n"
     ]
    }
   ],
   "metadata": {}
  },
  {
   "cell_type": "markdown",
   "source": [
    "# The difference between yield and return\r\n",
    "### Yield returns a value, pauses the function and saves the state of the function, \r\n",
    "### While the return statement returns a value then terminates its execution and consequently deleting the state of the function."
   ],
   "metadata": {}
  },
  {
   "cell_type": "code",
   "execution_count": 7,
   "source": [
    "# Generator vs List\r\n",
    "\r\n",
    "def cube_list(nums):\r\n",
    "    result = []\r\n",
    "    for i in nums:\r\n",
    "        result.append(i**3)\r\n",
    "    return result\r\n",
    "\r\n",
    "def cube_gen(nums):\r\n",
    "     for i in nums:\r\n",
    "         yield (i**3)\r\n",
    "\r\n",
    "my_nums = [1,2,3,4,5]\r\n",
    "\r\n",
    "\"\"\" \r\n",
    "cube_list_short = [i**3 for i in my_nums]\r\n",
    "\r\n",
    "cube_gen_short = (i**3 for i in my_nums)\r\n",
    "\"\"\"\r\n",
    "\r\n",
    "print(cube_list(my_nums))\r\n",
    "print(cube_gen(my_nums))\r\n",
    "\r\n",
    "gen1 = cube_gen(my_nums)\r\n",
    "print(next(gen1))\r\n",
    "print(next(gen1))\r\n",
    "print(next(gen1))\r\n",
    "\r\n",
    "gen2 = cube_gen(my_nums)\r\n",
    "for i in gen2:\r\n",
    "    print(i)    # Won't get a StopIteration exception, as the loop handles it\r\n",
    "\r\n",
    "gen3 = cube_gen(my_nums)\r\n",
    "print(list(gen3))\r\n",
    "# But we can't with gen2 As it is exhausted\r\n",
    "print(list(gen2))"
   ],
   "outputs": [
    {
     "output_type": "stream",
     "name": "stdout",
     "text": [
      "[1, 8, 27, 64, 125]\n",
      "<generator object cube_gen at 0x0000016A5E582F90>\n",
      "1\n",
      "8\n",
      "27\n",
      "1\n",
      "8\n",
      "27\n",
      "64\n",
      "125\n",
      "[1, 8, 27, 64, 125]\n",
      "[]\n"
     ]
    }
   ],
   "metadata": {}
  },
  {
   "cell_type": "code",
   "execution_count": 8,
   "source": [
    "# Performance Check\r\n",
    "\r\n",
    "import cProfile\r\n",
    "\r\n",
    "def list_method():\r\n",
    "  arr=[]\r\n",
    "  for i in range(0,10000000):\r\n",
    "    arr.append(i**3)\r\n",
    "  return arr\r\n",
    "  \r\n",
    "\r\n",
    "def generator_method():\r\n",
    "  for i in range(0,10000000):\r\n",
    "    yield i**3\r\n",
    "\r\n",
    "\r\n",
    "def main():\r\n",
    "  # list_method()\r\n",
    "  gen = generator_method()\r\n",
    "  print(gen)\r\n",
    "  for i in range(5):\r\n",
    "    print(next(gen))\r\n",
    "  \r\n",
    "\r\n",
    "\r\n",
    "if __name__ == '__main__':\r\n",
    "    cProfile.run('main()')"
   ],
   "outputs": [
    {
     "output_type": "stream",
     "name": "stdout",
     "text": [
      "<generator object generator_method at 0x0000016A5E659120>\n",
      "0\n",
      "1\n",
      "8\n",
      "27\n",
      "64\n",
      "         185 function calls in 0.005 seconds\n",
      "\n",
      "   Ordered by: standard name\n",
      "\n",
      "   ncalls  tottime  percall  cumtime  percall filename:lineno(function)\n",
      "        6    0.000    0.000    0.000    0.000 <ipython-input-8-fccdef32d57c>:12(generator_method)\n",
      "        1    0.000    0.000    0.005    0.005 <ipython-input-8-fccdef32d57c>:17(main)\n",
      "        1    0.000    0.000    0.005    0.005 <string>:1(<module>)\n",
      "       13    0.000    0.000    0.004    0.000 iostream.py:197(schedule)\n",
      "       12    0.000    0.000    0.000    0.000 iostream.py:310(_is_master_process)\n",
      "       12    0.000    0.000    0.000    0.000 iostream.py:323(_schedule_flush)\n",
      "       12    0.000    0.000    0.004    0.000 iostream.py:386(write)\n",
      "       13    0.000    0.000    0.000    0.000 iostream.py:93(_event_pipe)\n",
      "       13    0.003    0.000    0.003    0.000 socket.py:432(send)\n",
      "       13    0.001    0.000    0.001    0.000 threading.py:1017(_wait_for_tstate_lock)\n",
      "       13    0.000    0.000    0.001    0.000 threading.py:1071(is_alive)\n",
      "       13    0.000    0.000    0.000    0.000 threading.py:513(is_set)\n",
      "        1    0.000    0.000    0.005    0.005 {built-in method builtins.exec}\n",
      "       12    0.000    0.000    0.000    0.000 {built-in method builtins.isinstance}\n",
      "        5    0.000    0.000    0.000    0.000 {built-in method builtins.next}\n",
      "        6    0.000    0.000    0.005    0.001 {built-in method builtins.print}\n",
      "       12    0.000    0.000    0.000    0.000 {built-in method nt.getpid}\n",
      "       13    0.000    0.000    0.000    0.000 {method 'acquire' of '_thread.lock' objects}\n",
      "       13    0.000    0.000    0.000    0.000 {method 'append' of 'collections.deque' objects}\n",
      "        1    0.000    0.000    0.000    0.000 {method 'disable' of '_lsprof.Profiler' objects}\n",
      "\n",
      "\n"
     ]
    }
   ],
   "metadata": {}
  }
 ],
 "metadata": {
  "orig_nbformat": 4,
  "language_info": {
   "name": "python",
   "version": "3.8.8",
   "mimetype": "text/x-python",
   "codemirror_mode": {
    "name": "ipython",
    "version": 3
   },
   "pygments_lexer": "ipython3",
   "nbconvert_exporter": "python",
   "file_extension": ".py"
  },
  "kernelspec": {
   "name": "python3",
   "display_name": "Python 3.8.8 64-bit (conda)"
  },
  "interpreter": {
   "hash": "2cfb370760a0af5fe9cddc8c9306d024cd23644abc813ec9434904b59b9477dc"
  }
 },
 "nbformat": 4,
 "nbformat_minor": 2
}