{
  "nbformat": 4,
  "nbformat_minor": 0,
  "metadata": {
    "colab": {
      "name": "parallel_programming.ipynb",
      "provenance": [],
      "collapsed_sections": [],
      "include_colab_link": true
    },
    "kernelspec": {
      "name": "python3",
      "display_name": "Python 3"
    },
    "language_info": {
      "name": "python"
    }
  },
  "cells": [
    {
      "cell_type": "markdown",
      "metadata": {
        "id": "view-in-github",
        "colab_type": "text"
      },
      "source": [
        "<a href=\"https://colab.research.google.com/github/OmarMuhammedAli/python-advanced/blob/main/session%204/parallel_programming.ipynb\" target=\"_parent\"><img src=\"https://colab.research.google.com/assets/colab-badge.svg\" alt=\"Open In Colab\"/></a>"
      ]
    },
    {
      "cell_type": "markdown",
      "metadata": {
        "id": "_I9fbcby2cwo"
      },
      "source": [
        "**parallel programming**"
      ]
    },
    {
      "cell_type": "markdown",
      "metadata": {
        "id": "kcYBzfeI2heB"
      },
      "source": [
        "Serial Execution\n",
        "\n",
        "- Typical programs operate lines sequentially(code is executed one line at a time in order)\n",
        " "
      ]
    },
    {
      "cell_type": "code",
      "metadata": {
        "colab": {
          "base_uri": "https://localhost:8080/"
        },
        "id": "FQWJtP1I2Z_L",
        "outputId": "b293c1f0-5216-4e71-8e13-a270eab6642d"
      },
      "source": [
        "\n",
        "import time \n",
        "\n",
        "start = time.perf_counter()\n",
        "\n",
        "def do_sth():\n",
        "    print ('sleeping 1 sec')\n",
        "    time.sleep(1)\n",
        "    print('done sleeping ....')\n",
        "\n",
        "\n",
        "do_sth()\n",
        "do_sth()\n",
        "\n",
        "finish = time.perf_counter()\n",
        "\n",
        "print (f'finished in {round(finish-start,2)}')"
      ],
      "execution_count": null,
      "outputs": [
        {
          "output_type": "stream",
          "name": "stdout",
          "text": [
            "sleeping 1 sec\n",
            "done sleeping ....\n",
            "sleeping 1 sec\n",
            "done sleeping ....\n",
            "finished in 2.0\n"
          ]
        }
      ]
    },
    {
      "cell_type": "markdown",
      "metadata": {
        "id": "r0ub0h0W_wE9"
      },
      "source": [
        "![seq.png](data:image/png;base64,iVBORw0KGgoAAAANSUhEUgAAAlYAAADqCAYAAABgMgs4AAAAinpUWHRSYXcgcHJvZmlsZSB0eXBlIGV4aWYAAHjaVY7LDcQwCETvVLElDB+DKSeKHGk72PIXx5EivwMMCM1A4/e96DNhGFmL7umOwtJSjhIdCwVYwLNXXTxduZTU+MyksoRnD9h7aIaNpt79Covw5qefUu4yVO/KCrqvptl8JV+j5lgRuu/HsQfQH/v8LUbhANUzAAAKBmlUWHRYTUw6Y29tLmFkb2JlLnhtcAAAAAAAPD94cGFja2V0IGJlZ2luPSLvu78iIGlkPSJXNU0wTXBDZWhpSHpyZVN6TlRjemtjOWQiPz4KPHg6eG1wbWV0YSB4bWxuczp4PSJhZG9iZTpuczptZXRhLyIgeDp4bXB0az0iWE1QIENvcmUgNC40LjAtRXhpdjIiPgogPHJkZjpSREYgeG1sbnM6cmRmPSJodHRwOi8vd3d3LnczLm9yZy8xOTk5LzAyLzIyLXJkZi1zeW50YXgtbnMjIj4KICA8cmRmOkRlc2NyaXB0aW9uIHJkZjphYm91dD0iIgogICAgeG1sbnM6ZXhpZj0iaHR0cDovL25zLmFkb2JlLmNvbS9leGlmLzEuMC8iCiAgICB4bWxuczp0aWZmPSJodHRwOi8vbnMuYWRvYmUuY29tL3RpZmYvMS4wLyIKICAgZXhpZjpQaXhlbFhEaW1lbnNpb249IjU5OCIKICAgZXhpZjpQaXhlbFlEaW1lbnNpb249IjIzNCIKICAgdGlmZjpJbWFnZVdpZHRoPSI1OTgiCiAgIHRpZmY6SW1hZ2VIZWlnaHQ9IjIzNCIKICAgdGlmZjpPcmllbnRhdGlvbj0iMSIvPgogPC9yZGY6UkRGPgo8L3g6eG1wbWV0YT4KICAgICAgICAgICAgICAgICAgICAgICAgICAgICAgICAgICAgICAgICAgICAgICAgICAgICAgICAgICAgICAgICAgICAgICAgICAgICAgICAgICAgICAgICAgICAgICAgICAgIAogICAgICAgICAgICAgICAgICAgICAgICAgICAgICAgICAgICAgICAgICAgICAgICAgICAgICAgICAgICAgICAgICAgICAgICAgICAgICAgICAgICAgICAgICAgICAgICAgICAgCiAgICAgICAgICAgICAgICAgICAgICAgICAgICAgICAgICAgICAgICAgICAgICAgICAgICAgICAgICAgICAgICAgICAgICAgICAgICAgICAgICAgICAgICAgICAgICAgICAgICAKICAgICAgICAgICAgICAgICAgICAgICAgICAgICAgICAgICAgICAgICAgICAgICAgICAgICAgICAgICAgICAgICAgICAgICAgICAgICAgICAgICAgICAgICAgICAgICAgICAgIAogICAgICAgICAgICAgICAgICAgICAgICAgICAgICAgICAgICAgICAgICAgICAgICAgICAgICAgICAgICAgICAgICAgICAgICAgICAgICAgICAgICAgICAgICAgICAgICAgICAgCiAgICAgICAgICAgICAgICAgICAgICAgICAgICAgICAgICAgICAgICAgICAgICAgICAgICAgICAgICAgICAgICAgICAgICAgICAgICAgICAgICAgICAgICAgICAgICAgICAgICAKICAgICAgICAgICAgICAgICAgICAgICAgICAgICAgICAgICAgICAgICAgICAgICAgICAgICAgICAgICAgICAgICAgICAgICAgICAgICAgICAgICAgICAgICAgICAgICAgICAgIAogICAgICAgICAgICAgICAgICAgICAgICAgICAgICAgICAgICAgICAgICAgICAgICAgICAgICAgICAgICAgICAgICAgICAgICAgICAgICAgICAgICAgICAgICAgICAgICAgICAgCiAgICAgICAgICAgICAgICAgICAgICAgICAgICAgICAgICAgICAgICAgICAgICAgICAgICAgICAgICAgICAgICAgICAgICAgICAgICAgICAgICAgICAgICAgICAgICAgICAgICAKICAgICAgICAgICAgICAgICAgICAgICAgICAgICAgICAgICAgICAgICAgICAgICAgICAgICAgICAgICAgICAgICAgICAgICAgICAgICAgICAgICAgICAgICAgICAgICAgICAgIAogICAgICAgICAgICAgICAgICAgICAgICAgICAgICAgICAgICAgICAgICAgICAgICAgICAgICAgICAgICAgICAgICAgICAgICAgICAgICAgICAgICAgICAgICAgICAgICAgICAgCiAgICAgICAgICAgICAgICAgICAgICAgICAgICAgICAgICAgICAgICAgICAgICAgICAgICAgICAgICAgICAgICAgICAgICAgICAgICAgICAgICAgICAgICAgICAgICAgICAgICAKICAgICAgICAgICAgICAgICAgICAgICAgICAgICAgICAgICAgICAgICAgICAgICAgICAgICAgICAgICAgICAgICAgICAgICAgICAgICAgICAgICAgICAgICAgICAgICAgICAgIAogICAgICAgICAgICAgICAgICAgICAgICAgICAgICAgICAgICAgICAgICAgICAgICAgICAgICAgICAgICAgICAgICAgICAgICAgICAgICAgICAgICAgICAgICAgICAgICAgICAgCiAgICAgICAgICAgICAgICAgICAgICAgICAgICAgICAgICAgICAgICAgICAgICAgICAgICAgICAgICAgICAgICAgICAgICAgICAgICAgICAgICAgICAgICAgICAgICAgICAgICAKICAgICAgICAgICAgICAgICAgICAgICAgICAgICAgICAgICAgICAgICAgICAgICAgICAgICAgICAgICAgICAgICAgICAgICAgICAgICAgICAgICAgICAgICAgICAgICAgICAgIAogICAgICAgICAgICAgICAgICAgICAgICAgICAgICAgICAgICAgICAgICAgICAgICAgICAgICAgICAgICAgICAgICAgICAgICAgICAgICAgICAgICAgICAgICAgICAgICAgICAgCiAgICAgICAgICAgICAgICAgICAgICAgICAgICAgICAgICAgICAgICAgICAgICAgICAgICAgICAgICAgICAgICAgICAgICAgICAgICAgICAgICAgICAgICAgICAgICAgICAgICAKICAgICAgICAgICAgICAgICAgICAgICAgICAgICAgICAgICAgICAgICAgICAgICAgICAgICAgICAgICAgICAgICAgICAgICAgICAgICAgICAgICAgICAgICAgICAgICAgICAgIAogICAgICAgICAgICAgICAgICAgICAgICAgICAgICAgICAgICAgICAgICAgICAgICAgICAgICAgICAgICAgICAgICAgICAgICAgICAgICAgICAgICAgICAgICAgICAgICAgICAgCiAgICAgICAgICAgICAgICAgICAgICAgICAgIAo8P3hwYWNrZXQgZW5kPSJ3Ij8+EdgeMgAAAARzQklUCAgICHwIZIgAABpLSURBVHja7d15YIyHvofx78xklUQWFZFoQmwJgtg5OOWg5WjF0nJRVVXqWIqqQ9HVXqq0vdpqTy2nemylaO0OFVuIJSQiCCKWJBKJkH1m7h/a2/beanXikEmez59ZZ37vvHmfd8k7Bl//YKubm5skKTEhRgAAALCNkREAAAAQVgAAAIQVAAAAYQUAAADCCgAAgLACAAAgrAAAAAgrAAAAEFYAAACEFQAAAGEFAAAAwgoAAICwAgAAIKwAAAAIKwAAABBWAAAAhBUAAABhBQAAQFgBAACAsAIAACCsAAAACCsAAAAQVgAAAIQVAAAAYQUAAEBYAQAAgLACAAAgrAAAAAgrAAAAwgoAAACEFQAAAGEFAABAWAEAAICwAgAAIKwAAAAIKwAAAMIKAAAAhBUAAABhBQAAQFgBAACAsAIAACCsAAAACCsAAADCCgAAAIQVAAAAYQUAAEBYAQAAEFYAAAAgrAAAAAgrAAAAwgoAAACEFQAAAGEFAABAWAEAABBWAAAAIKwAAAAIKwAAAMIKAACAsAIAAABhBQAAUAI4MILSr7AgU7m3zjAI2MzJpaJcylW128efl3NJBXnXWJAos+sACCvcRzm34pR7Y7/KufkxDNhk+Ogx+u9FO+Ts7GyXj//G1W/l6uIqo4k/ebBNetoeBdQeyyBAWOEOt3L+cvOqziBgk0qVystotO8rB9y9qstocmJhwibZWSkMAfeEa6wA/K7hgx+To6MjgwAAwgpAcR2NuSSLxcIgAICwAlBcazccVWFhIYMAAMIKQHF17lhPDg5ckgkAhBWAYmvZLFgmk4lBAABhBaC4vli2l1OBAEBYAbgfzielc/E6ABBWAO6HiWM72+3NQQGAsAJQouTlF8pqtTIIACCsABTXvI+2q6CggEEAAGEFoLhCa/nZ/VvaAABhBaBE+K+nm/GWNgBAWAEPXmFCpOZ16aA/fZRWap7T7r0JMpvNLFzck0t7lmpArf4acYybyqLs4VUPu2NIjdKHExdoe8OPtHak5//7vMWUrC0jPtBKS2V5ueQqNf6aQl/7SJNbFj2Qx+dYq7U6h1m1uhTNfMeuePXsV8RNQkuIW1Hr9NqEzaow9zO9Ef7/X9eGtO81d/xmJTxSUS6Gmzq/30sDdo5RT8cHc8uMgMfaq1XFjTrJogJhBZRwBYnaus9R3tZzSjX++sXU+ctnaVLWEO1dUl+uVquMZ77WwosGZlcMvXs04VRgSVkFLh7StixvuabeVNpdXtYHJk3Q9g479V0/F0lS5per9F2uQXqAi9CV256BsALsgFOwOkZIB3bd/V//rYYcXYverB3nQ9W1qoMsNXtoaM07dw0vOrREQ9+/Jl//PCUmhuuVryLU1BCrxYOX6eCjofIuOKVTngO0blKILq+coVc3e6phQKZOng5U/0UD1C5puXp0W66cJ/+kaudPaU9coCZtn6YBVc26vPJ1jfzGRy0a+un6YScpsPSMvW6oPxevl5RVIKipulVP1MXxFp296zpg1oXV+3SyVwfVc7bIq9/T6iuzZMjXuaUzNGWXlyobk3Wl6mB9NDlU7gkbNfbNaDkEV5DpQrxuD5qvhR3StevVBVpcVFkB+cm6ZPmrZixsrbyVL6vni4WqP8RXuftidNr4nL6M7KYwpWrXq+/qk1tVVb+uWcduOMmXxQXCCrB/5SImae7aYRoY9m/5P/6Yho58ToMe85Oz6Zw+f36H/Ncs19uhGVrf5QnN3NBV06NG6NMay7R/ir8spmTtXJUnXd+ocSPM6nV5hHo6WnR1/tPq8vemiv6smTp4bNL1v03SOyG3tfvZtpq6fZIGdN+occ9JvVJeUd/yZsVfX6S9pWim8xfu0NTZo+Xk5MQLzA60mjRNHSImqUXAJ2r75JN64e991DPEQbq+UZNHlFO/22PVJW+/XvH4WMuGTZDXcwt1c9p6LW1nlG59r29irLJsmqnx0V21ZXt7eRuytL7LExq1KlJrOrdW9bxE9Z47QZ0N0ZpUaYFWxfVQ3YszNTqyo77d11n+hkv69J97OBWIMoldUJTCXfpg/ddXW5QY/bbGh1zRwp7Pq/uXmVLBOe0/l6Mj//xCs2ev0/fejfWIx1UdjLylauFBd1YIcxV16FFDxlN7dTKotuo73zkyFtCohqwHTyvB+LNzL1ZneXpJxtx8GeMO62S9MDX1Kp3nP25l53ODUDtiCeygBUd3KW7TQP2l8BuNCH9Z8+MdZIw7rGivq9oya7FmL4hUducKcrt5SruO1lXbxj+cJ3Rvq26tTEo4FiVjvarysVplsJRX7bquuhx58Re/x2D1VOUKd17zZ3Yck0vT2qpi4XWCso0jVih9ewsZ2bpeobx8ajVR/6lN1KVWfzVZEaucPpJBVdRl5EAN9zVLGiCrKU1L35Isxvzi7Wfk5MtcVHrf8mXS+C68pY0duXn1lspXdldg084au/xPqtero6Zuy9CYhpKLWxO9OL6/6put0ljJYtmmvcpXDpchAvdnG8QIUNpc+ddnWnzhp/9eM+QYVMmvgso5VVeD0Dhti7z90+fMFdW8tbviNsYq1/DTlsXcqJXqXTytmPw7H7t85KwMzWur1l32xq11myrw3GEdyiydq9TFS+kcsbIXhnztm7tGB0w/P7rqoYDq7rLUaaLg84e15+rPXqeOoWre+IR2brv9ix9Tq2EzWU5eUIbBIKvxpk7H5qpax6C7/trAxlWVveuEko0UGso2jljBvrYZWee1ZesRbTvprKzErVrqE66W/eqq5s+Cxz2sSPuGT9SZED95lrupyxee1OwPQmUssuiFT/spcvTf9Pi6aqoXEKaICT3UZtJcvfTSArV70k+hQRUU0rKXRvV7SnM+PKlXh36ocwGZOnm6m2YtClVR/GodychQ2s4EZfpk699njUpNO6EzQ3tq2vTRGtVlpLaFV5VbkqPyjkUr6sUuauZk/6cHP1+6V43bFHDUqgQouHhIX+/dpx03byhv5Qb9K7ORurXzk+uP4Wt1VsWqBzUl4ppq1XFXuczLSguaoTldTZK1q+Z+ukfP9hyqyJAgVarXTsPHNNegxcMV/dIwdVkerKCqPmrc/3m90HmCZu98V6+MSVYdY5xOBM7XnK4mJW89rstOGdq0P0NtXY7rSEaGUvZflOXFSXr96ynq1fWQGtb2UXpmpm5+d1IZ4aHyIcpRlrZTvv7BVjc3N0lSYkIMEymFsjL2yZh/UW7e1RkGbLLokwV6YfhiOTjY577Y1XMfq6JfPRlNXHwPG19DFyMVUHssg8Dv4lQggN/V9Yn6dhtVAEBYAShR1m08pqKiIgYBAIQVgOI6cjyJ9woEAMIKwP0wdFAbbg4KAIQVgPshoLK3DAb+jR4ACCsAxfbm9A3Kz89nEABAWAEoroqPuPMmzABAWAG4H4YPaSdHR0cGAQCEFYDiOn4iWRaLhUEAAGEFoLjWrD+iwsJCBgEAhBWA4urQLpQ7rwPAPeAvZRlhNVolK6dyYJu2rWrKZDLZ+UpgYR0AQFiheCwWi4rMnsrLTNGtrFQGApusXH9ZI0YX2uUF7IWFhTI61lTqlSMsSNikoKBQZ5KsCqjNLEBYlXmHDx9Wr169FBkZqcDAQAYCm1xIftluL15fsGCBFi1apPj4eBYkbJKcnKyD6xarYxdmgd/HNVal3Pvvv69Lly5p9uzZDAM2mzp1ql2+pU1+fr5Wrlyp5ORkrVixggUJm/j7+2vMmDEMAoRVWRcbG6tDhw5JkjZv3sweO8qcNWvWKDY2Vrdv39acOXNUVFTEUAAQVrDNrFmzZDKZ1KdPH5lMJk2ePJmhwCaTJ09WQUGB3T3umTNnqkaNGurZs6dSU1P18ccfszDxh125ckXz5s1jECCsyrL8/Hx16NBBu3fvlpeXl/bv36/hw4fb5cYRD19oaKjdvaVNZmamxo4dq1WrVqlJkybavXu3QkJCZLVaWaD4Q1xcXFS9enUGgXti8PUPtrq5uUmSEhNimEgpdPToUTVs2FAGg4FhoMzJyclRUlKSQkJCGAaA/ziOWJUB4eHhRBWKZfv27TKbzXb52MuVK0dUoViys7O1b98+BgHCCnfMnDlTt2/fZhCw2YYNG+z2wu/09HS9//77LETYLCsrSzt37mQQIKxwR05ODu/zhmJ57rnn7PLmoJJkMBiUmZnJQoTNfHx81L17dwaBe/ubwzVWAAAA9wdHrMqApKQk/hsQxTJt2jS7fQ1ZLBadP3+ehQibpaSkaOHChQwChBXuWLp0qVJSUhgEbJaRkWG3tykoLCzUe++9x0KEzYqKipSVlcUgcE84FVgGbNu2TY0aNVKFChUYBsocq9WqlStXqnfv3gwDAGEF4OG7cOGCgoKCuG0HyqSCggKlpaUpICCAYeB3cSqwDNi6dauuXbvGIGCzefPm2fV1el9++SV3XIfNUlNT9cUXXzAIEFa449SpU0pPT2cQsFmLFi1kMpns9vEfOHCAf+CAzdzc3BQeHs4gcE84FVhG9rY8PDzk6urKMFAmXbp0SQEBAXb3focA7A9/ZcoAX19fogrFsnr1aru987okPfroo0QVbJaZmanNmzczCBBWuOOLL75QVFQUg8AfUlBQoHHjxmnXrl3as2eP9u7dq2HDhunWrVt291wmT56sjIwMFir+kNTUVI0ZM0aHDh3S4cOH9dVXX+n1119nMPhNDoyg9PP29rbbtyPBw+Pk5KTKlSsrIiJC9erV05IlS9SvXz+5u7vb3XPx9fXl4nXY9LpJSEjQunXr5OPjo3PnzmnJkiUMBr+Ja6wA3FV2drZatmyp2NhYBQUFKTIyUlWqVGEwKDOOHj2qjh07Kj09Xc2bN9eBAwcYCn4TpwLLgKSkJO68Dpt4eHho8ODBkqTu3bvbbVTFxsYqNzeXBYo/LDw8XG3btpWrq6smTJjAQEBYQYqKilJMDEcjYZshQ4aoRYsWmjhxot0+h/Xr17NzAZtNnTpVTZo0UUREBMPA7+Iaq3vw7YU1unL7shyM9nmd0hmHBLV7pBMLEjYpV66cun7QTt+mr5Hs9HZoSX6n5eLhwsKETerUqaNOfedq8TcJDONuMWE0qP+TNRkEYXVvLFaLwio2l6uDm10+/gqufgr0epQFCZs96l5VDXxb2e3jN7V0kLe3NwsSNvP381TrpjUYxF1EHjrLEH7AqUAAAADCCgAAgLACAAAgrAAAAEBYAQAAEFYAAACEFQAAAGEFAAAAwgoAAICwAgAAIKwAAABAWAEAABBWJVr+la1a8uY8zZ1/RDcM9+/nWgvPascn+5Qe961W7L7BoFHm1oH8K1u1+psLSvv2K225WMigARBWpZ3FlKbdo1dJz7+i/o95y9V6f36uueiIlg/6SgURreVTt4Oaxb+hif+6xsBRZtaBgvP/1PSJ+WoSUU0+3dpIMyZoWTxxhdKy3txQ3KaRGlDNW0+9+IreeXOYXh3+hAY8M0iLNicpz8CMCKsyyuxwVqcPllM5b6lSg2pyuQ8/02rI19mpb2tPu5HqXMkig9VZgS8MVOUPZ2h5CosPpX8dKHI4q/UvbVTFCRGqarXKVFRFT/w9WNEDVumUkS0OSsGG2Oyt6j37qG7F8mr+zDxNeXOh3v1os+bPqKM9ox/TOxuzGZIdcWAE92mPw5ilCyt36GjOeblP/0zmLl30p2tTNWVYY42+MUhB+xbqrf6HFLJjsTofH6ZXh+YqeLCfCg8e15Wi5/X6rl6qrUzFzJuury74y88nSykn66jP+ira/omPWh7wkWSRJJkcGqld00H6cGWG+o70YvgoketAUacWCtw4Th9lTtM/FwcrccVkvf1STQ252VeuI57Vq/vD1Lm1RWf2xEht5mnBnLpyKorThpGfK6ZSXXkUxeqS+/N6r/dufZvYSi/Xtfy4Cqiw1mMK0RStjX5WoeFmho9Sybv6OL01ZqHGDvmXLlwdIr/4zzVr9mG5VndWZlyW6o/5WE+HHtb8Z5/UDpeBauQZqxP709T47V2a0tVDeSfn6q355+RdJVdpMa00YPkQhTlbGSxhZSd7HBZPVX3mL6o76LoCXxusp8tbZDgfLrcfPu/Rpo1CPA9Kkqp0aqtHC86o0/TJamOK1sIac7Qj9hnVvDlT733TVLP//bT8rFYlro+U4WKcLhQ8ovp+v1wZKof468bueGlkC4aPErsO5Kd5SVvufK5Gm+by8sqQyVxRLboFquL5v2rknD/L5drnGhr2nY6+V0/+U0dpfZV/6PNJgTI7JCt6dY5yY6KVXbmHgqzWn+3hV1FwwBmdiM6WwssxfJRawWHNlKdjOu2cqMhx8+X2xgmNa2yRNe4VDew4Xw2vjlfHuq664jlB74ytqOxNj2v41IMq7OmvNcNXKWhhlIaEpWtb/1CtWDtQYX0cGep/+m8hI3i4DJbyesTnzgbj0sEDKmoUKr8fNiDBT7VW9YwU3ZanHP7PtsPZ2VWW9Oz7enEw8DCYvTzkbilQtkOaYg7cUKUGwZIkU1EVNYuopezMm5Kr8y+u1zJYXeTuJeVkcooEpZ9VUpH5qKKjqyu45p2P5dcPl4/260TeL7/Ww9NFRa55yjGf0tGzN3X065n6dMGnOuzWUOXd8xjmA8ARq5K2QHJ+Jb5+4+tdOaqLUsZiyJdkuqevdWFcKOUuJ5yUu0aprtWq7//g95pUVe1fnKDelSyS/s4wHxCOWP0n9zJcJZOuK/cevz6ofkMV7on6xQW5RX5V5KYs3cz9ZV5lZ+XLKeARNiwo2euAi4vMGTd1L/vJDuaKqt/CW5c2xfzi6ytU8pBy85Vp+GkdsBrydCtTcqzswZBRahUVfKfP/rtItT/toyqGRgprfE6JZ+58zjnmqLLUTmF32QgYHUJVq+4JHf0+i0E+YByxul8bEEO+rm/dprNKVPKyHarTr71qV/mzOrR9XrO6pKnJE5WVlXdZeZvidanOcaU4XtO+Axlq5nZcpzKuKz0qUbmDXtPEnm9oepfj8g+qoEpBHdT19XqqWWmTrp8zSKE//a6r8VdVvnU1Bo8SvQ7UadtdNd+ZqsF99yisdYYybmfpcNQF+exKUWZqlA4kNVbV+INKccxUwr5bajfuXXUb9b4G96qkaoEVFNysj/o2b6MKp07pvOFJ/XipodnhnOJPh6lWIw9JXLwO+2Yx3VDclysUm3ZTWcuGacoOq6yGXOVcNij07S16trOHHAo81GvuEL01+yXNaOyp/CM31GnDDNW6Fa0vz2TrqmGXTuU01e0tyUrL/rdizz+lXu+N1mvjH9egHSGq7dtCHccOVSMvTnP8pxl8/YOtbm53LrFOTIhhIr9iw/lVqugWKFcHt4fy+6/Mf0bvFH6gheMq3dmLsezS+612KGTLNHX1tPzu91+8eUa1vWqqtlc9FiZssjT+UzXwbfWQNjpp2t5ruI69vEbjW92JKGP8DA17MUxTIp/832sSf8vx1P3qXWuAnI3OLEzY5B/rEtS2WQ0GcReRh85qYLdaDEKcCrQLlf82XREJ87UsvlAWY5bi3lony6wJ9xRVgN3/kTJX1OPzBsvwwSJFZxplLjqiZdOK1HX1U/cUVQDwIHEq0A4YHGuo4+djdGL5cWWab+h6xLsaH86/zKLssPp30rhFR7V1b6LSTdcU8sEbauzFjgUAwgrF2Gtv0LuiJKk940BZ3MFwD9fjj0tSVfmKqAJQQrfXjAAAAICwAgAAIKwAAAAIKwAAABBWAAAAhBUAAABhBQAAQFgBAACAsAIAAHh4uPP6PTAYDIq9flgOcrLLx59VmK7aXjVZkLDZlewkWS0Gu338V3MvshBRLCmp2Tpw5DyDuAujwcAQfmwGX/9gq5ubmyQpMSGGifwKs6VIhdZCu34OzkZnGQwcoIRt8sy5dv8cXEyuLEjYvg4UmBnCbzAZDXJ0YBsjccTqHl8wDjIxKpRhRAnK/DrgZGIIuCfkJQAAAGEFAABAWAEAABBWAAAAIKwAAAAIKwAAAMIKAACgjOHmTABKDHPmp3r7FRfVan9CK8adVPCCgWpz4IhSewQpfmcbzZ8SxpCAEmrt2rXy9PRU+/bty/QcuPM6gJIj/4ZSbnvL22e7xgetUceLC9Wl4KqyzJXlxT1KgRLt+++/V+/evdWoUSNNnDhRrVu3LpNz4IjVz6SkpGjDhg0MAnhI/Pz81LVrVxX8fO/PqbIM+4aqx5SntWZlnka1+1COo56QNnytlHYvqG3qRu04NUQfra2n49Pn6XTNOkpdkaJKI/8spzMnGSrwAFWrVk3fffedoqKiFBISoj179hBWZZmbm5saNGjAIICHxMPD41c/Xr5aXbl7WGWpUEeNfarKbfBoRfht03Nne2rQ9Oq61nKfTt+O10fLHfTse17yaHpKuYYqatCAtyEBHpSCggLdunVLkuTr66tu3bqVyTkQVj/j7u6upk2bMgjATjk6heqxThHy6RTxw0eqMBTgAVm0aJFyc3O1YMECDRo0SD9eZkRYAcBDZFWeruzdr8SCCzq2I0nt/uKr7Lg4XU43KO6qSXEp1+R/OlVJJ6/p9tl4pVy7oHNFp9QgZ6YGhr+gUTNy1LFmQ3Xo1VwBjBN4YJ566in17du3zAbVj7h4HQAA4D7hPlYAAACEFQAAAGEFAABAWAEAAICwAgAAIKwAAAAIKwAAAMIKAAAAhBUAAABhBQAAQFgBAACAsAIAACCsAAAACCsAAADCCgAAAIQVAAAAYQUAAEBYAQAAEFYAAAAgrAAAAAgrAAAAwgoAAACEFQAAAGEFAABAWAEAABBWAAAAIKwAAAAIKwAAAMIKAACAsAIAAABhBQAAQFgBAAAQVgAAACCsAAAACCsAAADCCgAAgLACAAAAYQUAAEBYAQAAEFYAAAAgrAAAAAgrAAAAwgoAAICwAgAAAGEFAABAWAEAABBWAAAAhBUAAAAIKwAAAMIKAACAsAIAAABhBQAAQFgBAAAQVgAAAIQVAAAACCsAAADCCgAAgLACAAAgrAAAAFAs/wPDVTitsLQyIAAAAABJRU5ErkJggg==)"
      ]
    },
    {
      "cell_type": "markdown",
      "metadata": {
        "id": "g020_ZCHPPcX"
      },
      "source": [
        "what and when to use multi processing module:\n",
        "\n",
        "*   speed up our program\n",
        "*   tasks don't need to run synchronously  (main task can be splited ot multiple task ) \n",
        "   \n",
        "Tasks are \n",
        "io- bound or cpu bound \n",
        "io: waiting for input, output operation to be completed \n",
        "file system operation and network operation like downloading stuff \n"
      ]
    },
    {
      "cell_type": "markdown",
      "metadata": {
        "id": "x1siJDHiQtnf"
      },
      "source": [
        "![parallel.png](data:image/png;base64,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)"
      ]
    },
    {
      "cell_type": "code",
      "metadata": {
        "id": "oYNFof0R2-zq",
        "colab": {
          "base_uri": "https://localhost:8080/"
        },
        "outputId": "8a57acd8-cc90-47b9-ba50-66e8fd61c23c"
      },
      "source": [
        "import multiprocessing # pool\n",
        "import threading\n",
        "\n",
        "\n",
        "start = time.perf_counter()\n",
        "\n",
        "\n",
        "\n",
        "def do_sth(sec,name):\n",
        "    print (f'hello mr {name }, sleep for  {sec} sec')\n",
        "    time.sleep(sec)\n",
        "    print('done sleeping ....')\n",
        "\n",
        "secs = [1,2,3,4,5,8]\n",
        "names = ['mona','ali','mohamed',\"ahmed\",'omar',\"aya\"]\n",
        "\n",
        "processes  = []\n",
        "# create two process object\n",
        "for sec , name  in zip(secs,names):\n",
        "    p = multiprocessing.Process(target=do_sth,args=[sec,name])\n",
        "    # get process to run\n",
        "    p.start()\n",
        "    processes.append(p)\n",
        "\n",
        "for p in processes:\n",
        "  p.join()\n",
        "\n",
        "finish = time.perf_counter()\n",
        "\n",
        "print (f'finished in {round(finish-start,2)}')"
      ],
      "execution_count": null,
      "outputs": [
        {
          "output_type": "stream",
          "name": "stdout",
          "text": [
            "hello mr mona, sleep for  1 sec\n",
            "hello mr ali, sleep for  2 sec\n",
            "hello mr mohamed, sleep for  3 sec\n",
            "hello mr ahmed, sleep for  4 sec\n",
            "hello mr omar, sleep for  5 sec\n",
            "hello mr aya, sleep for  8 sec\n",
            "done sleeping ....\n",
            "done sleeping ....\n",
            "done sleeping ....\n",
            "done sleeping ....\n",
            "done sleeping ....\n",
            "done sleeping ....\n",
            "finished in 8.07\n"
          ]
        }
      ]
    },
    {
      "cell_type": "markdown",
      "metadata": {
        "id": "M1zRNEtZBNIP"
      },
      "source": [
        "threads and process\n",
        "\n",
        "Tasks's types:\n",
        "\n",
        "\n",
        "1.   cpu bound (numbers)-> function calculate square root -> process \n",
        "2.   io bound (files system - network ) -> download images form web - GUI(waits for user ) -> threading \n",
        "\n",
        "\n",
        "\n",
        "\n",
        "\n",
        "\n",
        "\n",
        "\n",
        "\n"
      ]
    },
    {
      "cell_type": "code",
      "metadata": {
        "colab": {
          "base_uri": "https://localhost:8080/"
        },
        "id": "ycCz6NIx_4UK",
        "outputId": "c61e227a-3862-4f33-a191-c5c7b6305512"
      },
      "source": [
        "import concurrent.futures\n",
        "import time\n",
        "\n",
        "start = time.perf_counter()\n",
        "\n",
        "\n",
        "def do_something(seconds):\n",
        "    print(f'Sleeping {seconds} second(s)...')\n",
        "    time.sleep(seconds)\n",
        "    return f'Done Sleeping...{seconds}'\n",
        "\n",
        "\n",
        "\n",
        "with concurrent.futures.ProcessPoolExecutor() as executor:\n",
        "    secs = [5, 4, 3, 2, 1]\n",
        "    results = executor.map(do_something, secs)\n",
        "\n",
        "\n",
        "finish = time.perf_counter()\n",
        "\n",
        "print(f'Finished in {round(finish-start, 2)} second(s)')"
      ],
      "execution_count": null,
      "outputs": [
        {
          "output_type": "stream",
          "name": "stdout",
          "text": [
            "Sleeping 4 second(s)...\n",
            "Sleeping 5 second(s)...\n",
            "Sleeping 3 second(s)...\n",
            "Sleeping 2 second(s)...\n",
            "Sleeping 1 second(s)...\n",
            "Finished in 5.2 second(s)\n"
          ]
        }
      ]
    },
    {
      "cell_type": "code",
      "metadata": {
        "colab": {
          "base_uri": "https://localhost:8080/"
        },
        "id": "2AKYQBzPYtHt",
        "outputId": "5fa44095-e56c-4e7f-d3c0-4b9db6ef1c4f"
      },
      "source": [
        "import requests \n",
        "import time\n",
        "\n",
        "img_urls = [\n",
        "    'https://images.unsplash.com/photo-1516117172878-fd2c41f4a759',\n",
        "    'https://images.unsplash.com/photo-1532009324734-20a7a5813719',\n",
        "    'https://images.unsplash.com/photo-1524429656589-6633a470097c',\n",
        "    'https://images.unsplash.com/photo-1530224264768-7ff8c1789d79',\n",
        "    'https://images.unsplash.com/photo-1564135624576-c5c88640f235',\n",
        "    'https://images.unsplash.com/photo-1541698444083-023c97d3f4b6',\n",
        "    'https://images.unsplash.com/photo-1522364723953-452d3431c267',\n",
        "    'https://images.unsplash.com/photo-1513938709626-033611b8cc03',\n",
        "    'https://images.unsplash.com/photo-1507143550189-fed454f93097',\n",
        "    'https://images.unsplash.com/photo-1493976040374-85c8e12f0c0e',\n",
        "    'https://images.unsplash.com/photo-1504198453319-5ce911bafcde',\n",
        "    'https://images.unsplash.com/photo-1530122037265-a5f1f91d3b99',\n",
        "    'https://images.unsplash.com/photo-1516972810927-80185027ca84',\n",
        "    'https://images.unsplash.com/photo-1550439062-609e1531270e',\n",
        "    'https://images.unsplash.com/photo-1549692520-acc6669e2f0c'\n",
        "]\n",
        "\n",
        "t1 = time.perf_counter()\n",
        "\n",
        "\n",
        "def download_image(img_url):\n",
        "    img_bytes = requests.get(img_url).content\n",
        "    img_name = img_url.split('/')[3]\n",
        "    img_name = f'{img_name}.jpg'\n",
        "    with open(img_name, 'wb') as img_file:\n",
        "        img_file.write(img_bytes)\n",
        "        print(f'{img_name} was downloaded...')\n",
        "\n",
        "\n",
        "for link in img_urls:\n",
        "  download_image(link)\n",
        "\n",
        "t2 = time.perf_counter()\n",
        "\n",
        "print(f'Finished in {t2-t1} seconds')"
      ],
      "execution_count": null,
      "outputs": [
        {
          "output_type": "stream",
          "name": "stdout",
          "text": [
            "photo-1516117172878-fd2c41f4a759.jpg was downloaded...\n",
            "photo-1532009324734-20a7a5813719.jpg was downloaded...\n",
            "photo-1524429656589-6633a470097c.jpg was downloaded...\n",
            "photo-1530224264768-7ff8c1789d79.jpg was downloaded...\n",
            "photo-1564135624576-c5c88640f235.jpg was downloaded...\n",
            "photo-1541698444083-023c97d3f4b6.jpg was downloaded...\n",
            "photo-1522364723953-452d3431c267.jpg was downloaded...\n",
            "photo-1513938709626-033611b8cc03.jpg was downloaded...\n",
            "photo-1507143550189-fed454f93097.jpg was downloaded...\n",
            "photo-1493976040374-85c8e12f0c0e.jpg was downloaded...\n",
            "photo-1504198453319-5ce911bafcde.jpg was downloaded...\n",
            "photo-1530122037265-a5f1f91d3b99.jpg was downloaded...\n",
            "photo-1516972810927-80185027ca84.jpg was downloaded...\n",
            "photo-1550439062-609e1531270e.jpg was downloaded...\n",
            "photo-1549692520-acc6669e2f0c.jpg was downloaded...\n",
            "Finished in 2.052089225002419 seconds\n"
          ]
        }
      ]
    },
    {
      "cell_type": "code",
      "metadata": {
        "colab": {
          "base_uri": "https://localhost:8080/"
        },
        "id": "gwoynO6edCMY",
        "outputId": "981b5b5d-4e5c-4bb7-a946-35d814d63b45"
      },
      "source": [
        "import requests \n",
        "import time\n",
        "import concurrent.futures\n",
        "\n",
        "img_urls = [\n",
        "    'https://images.unsplash.com/photo-1516117172878-fd2c41f4a759',\n",
        "    'https://images.unsplash.com/photo-1532009324734-20a7a5813719',\n",
        "    'https://images.unsplash.com/photo-1524429656589-6633a470097c',\n",
        "    'https://images.unsplash.com/photo-1530224264768-7ff8c1789d79',\n",
        "    'https://images.unsplash.com/photo-1564135624576-c5c88640f235',\n",
        "    'https://images.unsplash.com/photo-1541698444083-023c97d3f4b6',\n",
        "    'https://images.unsplash.com/photo-1522364723953-452d3431c267',\n",
        "    'https://images.unsplash.com/photo-1513938709626-033611b8cc03',\n",
        "    'https://images.unsplash.com/photo-1507143550189-fed454f93097',\n",
        "    'https://images.unsplash.com/photo-1493976040374-85c8e12f0c0e',\n",
        "    'https://images.unsplash.com/photo-1504198453319-5ce911bafcde',\n",
        "    'https://images.unsplash.com/photo-1530122037265-a5f1f91d3b99',\n",
        "    'https://images.unsplash.com/photo-1516972810927-80185027ca84',\n",
        "    'https://images.unsplash.com/photo-1550439062-609e1531270e',\n",
        "    'https://images.unsplash.com/photo-1549692520-acc6669e2f0c'\n",
        "]\n",
        "\n",
        "t1 = time.perf_counter()\n",
        "\n",
        "\n",
        "def download_image(img_url):\n",
        "    img_bytes = requests.get(img_url).content\n",
        "    img_name = img_url.split('/')[3]\n",
        "    img_name = f'{img_name}.jpg'\n",
        "    with open(img_name, 'wb') as img_file:\n",
        "        img_file.write(img_bytes)\n",
        "        print(f'{img_name} was downloaded...')\n",
        "\n",
        "\n",
        "with concurrent.futures.ThreadPoolExecutor() as executor:\n",
        "    executor.map(download_image, img_urls)\n",
        "\n",
        "\n",
        "t2 = time.perf_counter()\n",
        "\n",
        "print(f'Finished in {t2-t1} seconds')"
      ],
      "execution_count": null,
      "outputs": [
        {
          "output_type": "stream",
          "name": "stdout",
          "text": [
            "photo-1516117172878-fd2c41f4a759.jpg was downloaded...\n",
            "photo-1507143550189-fed454f93097.jpg was downloaded...\n",
            "photo-1564135624576-c5c88640f235.jpg was downloaded...\n",
            "photo-1530224264768-7ff8c1789d79.jpg was downloaded...\n",
            "photo-1524429656589-6633a470097c.jpg was downloaded...\n",
            "photo-1513938709626-033611b8cc03.jpg was downloaded...\n",
            "photo-1522364723953-452d3431c267.jpg was downloaded...\n",
            "photo-1504198453319-5ce911bafcde.jpg was downloaded...\n",
            "photo-1516972810927-80185027ca84.jpg was downloaded...\n",
            "photo-1532009324734-20a7a5813719.jpg was downloaded...\n",
            "photo-1530122037265-a5f1f91d3b99.jpg was downloaded...\n",
            "photo-1549692520-acc6669e2f0c.jpg was downloaded...\n",
            "photo-1541698444083-023c97d3f4b6.jpg was downloaded...\n",
            "photo-1550439062-609e1531270e.jpg was downloaded...\n",
            "photo-1493976040374-85c8e12f0c0e.jpg was downloaded...\n",
            "Finished in 1.3238623889992596 seconds\n"
          ]
        }
      ]
    },
    {
      "cell_type": "code",
      "metadata": {
        "colab": {
          "base_uri": "https://localhost:8080/"
        },
        "id": "95ylsF1y_qlB",
        "outputId": "abbaa413-401c-42e8-d7c2-2c00a4bacea1"
      },
      "source": [
        "\n",
        "\n",
        "import time\n",
        "import concurrent.futures\n",
        "from PIL import Image\n",
        "\n",
        "img_names = [\n",
        "    'photo-1516117172878-fd2c41f4a759.jpg',\n",
        "    'photo-1532009324734-20a7a5813719.jpg',\n",
        "    'photo-1524429656589-6633a470097c.jpg',\n",
        "    'photo-1530224264768-7ff8c1789d79.jpg',\n",
        "    'photo-1564135624576-c5c88640f235.jpg',\n",
        "    'photo-1541698444083-023c97d3f4b6.jpg',\n",
        "    'photo-1522364723953-452d3431c267.jpg',\n",
        "    'photo-1513938709626-033611b8cc03.jpg',\n",
        "    'photo-1507143550189-fed454f93097.jpg',\n",
        "    'photo-1493976040374-85c8e12f0c0e.jpg',\n",
        "    'photo-1504198453319-5ce911bafcde.jpg',\n",
        "    'photo-1530122037265-a5f1f91d3b99.jpg',\n",
        "    'photo-1516972810927-80185027ca84.jpg',\n",
        "    'photo-1550439062-609e1531270e.jpg',\n",
        "    'photo-1549692520-acc6669e2f0c.jpg'\n",
        "]\n",
        "\n",
        "t1 = time.perf_counter()\n",
        "\n",
        "size = (800, 800)\n",
        "\n",
        "\n",
        "def process_image(img_name):\n",
        "    img = Image.open(img_name)\n",
        "\n",
        "    img = img.rotate(angle=180)\n",
        "\n",
        "    #img.thumbnail(size)\n",
        "    img.save(f'processed/{img_name}')\n",
        "    print(f'{img_name} was processed...')\n",
        "\n",
        "\n",
        "with concurrent.futures.ProcessPoolExecutor() as executor:\n",
        "    executor.map(process_image, img_names)\n",
        "\n",
        "\n",
        "t2 = time.perf_counter()\n",
        "\n",
        "print(f'Finished in {t2-t1} seconds')"
      ],
      "execution_count": null,
      "outputs": [
        {
          "output_type": "stream",
          "name": "stdout",
          "text": [
            "Finished in 4.4755226760025835 seconds\n"
          ]
        }
      ]
    },
    {
      "cell_type": "markdown",
      "metadata": {
        "id": "tuhfwz1JyDqj"
      },
      "source": [
        "* cool sources \n",
        "\n",
        "\n",
        "1. [difference between process and thread](https://alldifferences.net/difference-between-process-and-thread/)\n",
        "2. [threads](https://youtu.be/IEEhzQoKtQU)\n",
        "2. [multiprocessing](https://youtu.be/fKl2JW_qrso)\n",
        "3. [gamed bs bir8i kter f 7agat mn3rfhash bs l concept wade7 XD](https://youtu.be/AG1soUh4-nU)\n",
        "\n"
      ]
    },
    {
      "cell_type": "code",
      "metadata": {
        "id": "Agt0zCsfCBf9"
      },
      "source": [
        ""
      ],
      "execution_count": null,
      "outputs": []
    }
  ]
}