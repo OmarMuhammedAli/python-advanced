{
 "cells": [
  {
   "cell_type": "markdown",
   "source": [
    "# Session 2\r\n",
    "\r\n",
    "## Contents: \r\n",
    "- [First-Class Citezens in programming](#first-class-citezens-in-programming)\r\n",
    "  - [Higher-Order Functions](#higher-order-functions)\r\n",
    "  - Closures\r\n",
    "- lambda expressions\r\n",
    "- Decorators\r\n",
    "- Comprehension\r\n",
    "- Dunder Methods & the Python Data Model.\r\n",
    "- Generators\r\n",
    "- Inheritance\r\n",
    "- Access modifires in python\r\n",
    "  \r\n"
   ],
   "metadata": {}
  },
  {
   "cell_type": "markdown",
   "source": [
    "## First-class funtions\r\n",
    "A programming language is said to have first-class functions if treats functions as _\"First-class Citizens\"_\r\n",
    "\r\n",
    "### But what is a __*\"First-Class Citizen\"*__ in programming?\r\n",
    "A first-class citizen in a programming language is an entity which supports all the operations generally available to other entities. These operations typically include being passed as an argument, returned from a function, and assigned to a variable."
   ],
   "metadata": {}
  },
  {
   "cell_type": "code",
   "execution_count": null,
   "source": [
    "# Assigning function to a variable\r\n",
    "\r\n",
    "# A function that returns the square of a given number\r\n",
    "def square(x):\r\n",
    "    return x*x\r\n",
    "\r\n",
    "\r\n",
    "f = square\r\n",
    "print(square)\r\n",
    "print(f(5))\r\n"
   ],
   "outputs": [],
   "metadata": {}
  },
  {
   "cell_type": "markdown",
   "source": [
    "## Higher order functions\r\n",
    "A function that takes a function as an argument or returns a function as a result is called a _\"higher order function\"_."
   ],
   "metadata": {}
  },
  {
   "cell_type": "code",
   "execution_count": null,
   "source": [
    "# Let's build our own map function!\r\n",
    "def my_map(func, iterable):\r\n",
    "    result = []\r\n",
    "    for element in iterable:\r\n",
    "        result.append(func(element))\r\n",
    "    return result\r\n",
    "\r\n",
    "# Excercise:\r\n",
    "# Apply list comprehesions to the map function that we just wrote.\r\n",
    "\r\n",
    "# def my_map(func, iterable):\r\n",
    "#     return [func(i) for i in iterable]\r\n",
    "\r\n",
    "# Let's try it out!\r\n",
    "print(my_map(square, [1, 2, 3, 4, 5]))\r\n",
    "\r\n",
    "def cube(num):\r\n",
    "    return num ** 3\r\n",
    "\r\n",
    "print(my_map(cube, [1, 2, 3, 4, 5]))"
   ],
   "outputs": [],
   "metadata": {}
  },
  {
   "cell_type": "code",
   "execution_count": null,
   "source": [
    "# Returning a function from another function\r\n",
    "def logger(message):\r\n",
    "    def log_message():\r\n",
    "        return f'Log: {message}'\r\n",
    "    return log_message\r\n",
    "\r\n",
    "# Let's say Hi!\r\n",
    "log_hi = logger('Hi!')\r\n",
    "print(log_hi())"
   ],
   "outputs": [],
   "metadata": {}
  },
  {
   "cell_type": "code",
   "execution_count": null,
   "source": [
    "# HTML tag generator\r\n",
    "def html_tag(tag):\r\n",
    "    def wrap_text(msg):\r\n",
    "        return f'<{tag}>{msg}</{tag}>'\r\n",
    "    return wrap_text\r\n",
    "\r\n",
    "h1 = html_tag('h1')\r\n",
    "print(h1.__name__)\r\n",
    "print(h1('Test Headline'))\r\n",
    "\r\n",
    "print(h1('Another Headline!'))\r\n",
    "\r\n",
    "p = html_tag('p')\r\n",
    "print(p('Test Paragraph'))\r\n"
   ],
   "outputs": [],
   "metadata": {}
  }
 ],
 "metadata": {
  "orig_nbformat": 4,
  "language_info": {
   "name": "python",
   "version": "3.8.5",
   "mimetype": "text/x-python",
   "codemirror_mode": {
    "name": "ipython",
    "version": 3
   },
   "pygments_lexer": "ipython3",
   "nbconvert_exporter": "python",
   "file_extension": ".py"
  },
  "kernelspec": {
   "name": "python3",
   "display_name": "Python 3.8.5 64-bit"
  },
  "interpreter": {
   "hash": "e404b59586357c814bc0d3940e75d6763c00a48753b225b81f7716971b8e1741"
  }
 },
 "nbformat": 4,
 "nbformat_minor": 2
}