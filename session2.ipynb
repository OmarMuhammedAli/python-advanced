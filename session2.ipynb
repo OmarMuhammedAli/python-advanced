{
 "cells": [
  {
   "cell_type": "markdown",
   "source": [
    "# Session 2\r\n",
    "\r\n",
    "## Contents: \r\n",
    "- First-Class Citezens in programming\r\n",
    "  - Higher-Order Functions\r\n",
    "  - Closures\r\n",
    "- lambda expressions\r\n",
    "- Decorators\r\n",
    "- Comprehension\r\n",
    "- Dunder Methods & the Python Data Model.\r\n",
    "- Generators\r\n",
    "- Inheritance\r\n",
    "- Access modifires in python\r\n",
    "  \r\n"
   ],
   "metadata": {}
  },
  {
   "cell_type": "markdown",
   "source": [
    "## First-Class Functions\r\n",
    "A programming language is said to have first-class functions if treats functions as _\"First-class Citizens\"_\r\n",
    "\r\n",
    "### But what is a __*\"First-Class Citizen\"*__ in programming?\r\n",
    "A first-class citizen in a programming language is an entity which supports all the operations generally available to other entities. These operations typically include being passed as an argument, returned from a function, and assigned to a variable."
   ],
   "metadata": {}
  },
  {
   "cell_type": "code",
   "execution_count": 1,
   "source": [
    "# Assigning function to a variable\r\n",
    "\r\n",
    "# A function that returns the square of a given number\r\n",
    "def square(x):\r\n",
    "    return x*x\r\n",
    "\r\n",
    "\r\n",
    "f = square\r\n",
    "print(square)\r\n",
    "print(f(5))\r\n"
   ],
   "outputs": [
    {
     "output_type": "stream",
     "name": "stdout",
     "text": [
      "<function square at 0x0000014D8BD97CA0>\n",
      "25\n"
     ]
    }
   ],
   "metadata": {}
  },
  {
   "cell_type": "markdown",
   "source": [
    "## Higher order functions\r\n",
    "A function that takes a function as an argument or returns a function as a result is called a _\"higher order function\"_."
   ],
   "metadata": {}
  },
  {
   "cell_type": "code",
   "execution_count": 2,
   "source": [
    "# Let's build our own map function!\r\n",
    "def my_map(func, iterable):\r\n",
    "    result = []\r\n",
    "    for element in iterable:\r\n",
    "        result.append(func(element))\r\n",
    "    return result\r\n",
    "\r\n",
    "# Excercise:\r\n",
    "# Todo 1: Move to comprehension exercises\r\n",
    "# Apply list comprehesions to the map function that we just wrote.\r\n",
    "\r\n",
    "# def my_map(func, iterable):\r\n",
    "#     return [func(i) for i in iterable]\r\n",
    "\r\n",
    "# Let's try it out!\r\n",
    "print(my_map(square, [1, 2, 3, 4, 5]))\r\n",
    "\r\n",
    "def cube(num):\r\n",
    "    return num ** 3\r\n",
    "\r\n",
    "print(my_map(cube, [1, 2, 3, 4, 5]))\r\n",
    "\r\n"
   ],
   "outputs": [
    {
     "output_type": "stream",
     "name": "stdout",
     "text": [
      "[1, 4, 9, 16, 25]\n",
      "[1, 8, 27, 64, 125]\n"
     ]
    }
   ],
   "metadata": {}
  },
  {
   "cell_type": "code",
   "execution_count": 4,
   "source": [
    "# Pipeline Showcase!\r\n",
    "\r\n",
    "def pipeline_component(func, data, args):\r\n",
    "    \"\"\"A pipeline component which is respnonsible for sending functional arguments over\r\n",
    "    to the selected target function.\r\n",
    "    \"\"\"\r\n",
    "\r\n",
    "    return func(data, *args)\r\n",
    "\r\n",
    "\r\n",
    "def pipeline(data: list, components: list):\r\n",
    "    \"\"\"A pipeline component that helps with making filtering easier. It provides\r\n",
    "    access to different filtering mechanism by simplying letting users\r\n",
    "    pass in what filter they want to apply, and the arguments for that filter\r\n",
    "\r\n",
    "    Usage::\r\n",
    "        >>> # assume variables 'data', 'kwargs'\r\n",
    "        >>> pipeline(\r\n",
    "            data=data,\r\n",
    "            components=[\r\n",
    "                {\"filter\": \"square\", \"num\": num},\r\n",
    "                {\"filter\": \"cube\", \"num\": num}\r\n",
    "            ]\r\n",
    "        )\r\n",
    "    \"\"\"\r\n",
    "\r\n",
    "    # Python treats dict objects as passed reference, thus\r\n",
    "    # in order to not modify the previous state, we make a local copy\r\n",
    "    if isinstance(data, list) or isinstance(data, tuple) or isinstance(data, set) or isinstance(data, dict):\r\n",
    "        __data = data.copy()\r\n",
    "    else:\r\n",
    "        __data = data\r\n",
    "    # A mapping of different filters possible\r\n",
    "    function_mappings = {\r\n",
    "        \"square\": square,\r\n",
    "        \"cube\": cube,\r\n",
    "        # Simply add the mapping of a new function,\r\n",
    "        # nothing else will really need to changed\r\n",
    "    }\r\n",
    "\r\n",
    "    # Going through each of the components\r\n",
    "    for component in components:\r\n",
    "\r\n",
    "        # If component is simply empty, continue to next\r\n",
    "        # iteration\r\n",
    "        if component == {}:\r\n",
    "            continue\r\n",
    "\r\n",
    "        # Send to pipeline component, return data to `__data`\r\n",
    "        __data = pipeline_component(\r\n",
    "            # Map function respectively using the function_mappings dictionary\r\n",
    "            func=function_mappings[f'{component[\"filter\"]}'],\r\n",
    "            # Send over the data\r\n",
    "            data=__data,\r\n",
    "            # Except the filter name, select the rest as args\r\n",
    "            args=tuple(list(component.values())[1:]),\r\n",
    "        )\r\n",
    "\r\n",
    "    # Return the data\r\n",
    "    return __data\r\n",
    "\r\n",
    "data = pipeline(\r\n",
    "    data=10,\r\n",
    "    components=[\r\n",
    "        {\"filter\": \"square\"},\r\n",
    "        {\"filter\": \"cube\"},\r\n",
    "    ]\r\n",
    ")\r\n",
    "print(data)"
   ],
   "outputs": [
    {
     "output_type": "error",
     "ename": "AttributeError",
     "evalue": "'int' object has no attribute 'copy'",
     "traceback": [
      "\u001b[1;31m---------------------------------------------------------------------------\u001b[0m",
      "\u001b[1;31mAttributeError\u001b[0m                            Traceback (most recent call last)",
      "\u001b[1;32m<ipython-input-4-aed7294ac348>\u001b[0m in \u001b[0;36m<module>\u001b[1;34m\u001b[0m\n\u001b[0;32m     58\u001b[0m     \u001b[1;32mreturn\u001b[0m \u001b[0m__data\u001b[0m\u001b[1;33m\u001b[0m\u001b[1;33m\u001b[0m\u001b[0m\n\u001b[0;32m     59\u001b[0m \u001b[1;33m\u001b[0m\u001b[0m\n\u001b[1;32m---> 60\u001b[1;33m data = pipeline(\n\u001b[0m\u001b[0;32m     61\u001b[0m     \u001b[0mdata\u001b[0m\u001b[1;33m=\u001b[0m\u001b[1;36m10\u001b[0m\u001b[1;33m,\u001b[0m\u001b[1;33m\u001b[0m\u001b[1;33m\u001b[0m\u001b[0m\n\u001b[0;32m     62\u001b[0m     components=[\n",
      "\u001b[1;32m<ipython-input-4-aed7294ac348>\u001b[0m in \u001b[0;36mpipeline\u001b[1;34m(data, components)\u001b[0m\n\u001b[0;32m     27\u001b[0m     \u001b[1;31m# Python treats dict objects as passed reference, thus\u001b[0m\u001b[1;33m\u001b[0m\u001b[1;33m\u001b[0m\u001b[1;33m\u001b[0m\u001b[0m\n\u001b[0;32m     28\u001b[0m     \u001b[1;31m# in order to not modify the previous state, we make a local copy\u001b[0m\u001b[1;33m\u001b[0m\u001b[1;33m\u001b[0m\u001b[1;33m\u001b[0m\u001b[0m\n\u001b[1;32m---> 29\u001b[1;33m     \u001b[0m__data\u001b[0m \u001b[1;33m=\u001b[0m \u001b[0mdata\u001b[0m\u001b[1;33m.\u001b[0m\u001b[0mcopy\u001b[0m\u001b[1;33m(\u001b[0m\u001b[1;33m)\u001b[0m\u001b[1;33m\u001b[0m\u001b[1;33m\u001b[0m\u001b[0m\n\u001b[0m\u001b[0;32m     30\u001b[0m \u001b[1;33m\u001b[0m\u001b[0m\n\u001b[0;32m     31\u001b[0m     \u001b[1;31m# A mapping of different filters possible\u001b[0m\u001b[1;33m\u001b[0m\u001b[1;33m\u001b[0m\u001b[1;33m\u001b[0m\u001b[0m\n",
      "\u001b[1;31mAttributeError\u001b[0m: 'int' object has no attribute 'copy'"
     ]
    }
   ],
   "metadata": {}
  },
  {
   "cell_type": "code",
   "execution_count": null,
   "source": [
    "# Returning a function from another function\r\n",
    "def logger(message):\r\n",
    "    def log_message():\r\n",
    "        return f'Log: {message}'\r\n",
    "    return log_message\r\n",
    "\r\n",
    "# Let's say Hi!\r\n",
    "log_hi = logger('Hi!')\r\n",
    "print(log_hi())"
   ],
   "outputs": [],
   "metadata": {}
  },
  {
   "cell_type": "code",
   "execution_count": null,
   "source": [
    "# HTML tag generator\r\n",
    "def html_tag(tag):\r\n",
    "    def wrap_text(msg):\r\n",
    "        return f'<{tag}>{msg}</{tag}>'\r\n",
    "    return wrap_text\r\n",
    "\r\n",
    "h1 = html_tag('h1')\r\n",
    "print(h1.__name__)\r\n",
    "print(h1('Test Headline'))\r\n",
    "\r\n",
    "print(h1('Another Headline!'))\r\n",
    "\r\n",
    "p = html_tag('p')\r\n",
    "print(p('Test Paragraph'))\r\n"
   ],
   "outputs": [],
   "metadata": {}
  }
 ],
 "metadata": {
  "orig_nbformat": 4,
  "language_info": {
   "name": "python",
   "version": "3.8.5",
   "mimetype": "text/x-python",
   "codemirror_mode": {
    "name": "ipython",
    "version": 3
   },
   "pygments_lexer": "ipython3",
   "nbconvert_exporter": "python",
   "file_extension": ".py"
  },
  "kernelspec": {
   "name": "python3",
   "display_name": "Python 3.8.5 64-bit"
  },
  "interpreter": {
   "hash": "e404b59586357c814bc0d3940e75d6763c00a48753b225b81f7716971b8e1741"
  }
 },
 "nbformat": 4,
 "nbformat_minor": 2
}