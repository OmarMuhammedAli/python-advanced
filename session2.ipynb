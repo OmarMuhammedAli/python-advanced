{
 "cells": [
  {
   "cell_type": "markdown",
   "source": [
    "# Session 2\r\n",
    "\r\n",
    "## Contents: \r\n",
    "- First-Class Citezens in programming\r\n",
    "  - Higher-Order Functions\r\n",
    "  - Closures\r\n",
    "  - Pipeline Showcase\r\n",
    "- lambda expressions\r\n",
    "- Decorators\r\n",
    "- Comprehension\r\n",
    "- Dunder Methods & the Python Data Model.\r\n",
    "- Generators\r\n",
    "- Inheritance\r\n",
    "- Access modifires in python\r\n",
    "  \r\n"
   ],
   "metadata": {}
  },
  {
   "cell_type": "markdown",
   "source": [
    "## First-Class Functions\r\n",
    "A programming language is said to have first-class functions if treats functions as _\"First-class Citizens\"_\r\n",
    "\r\n",
    "### But what is a __*\"First-Class Citizen\"*__ in programming?\r\n",
    "A first-class citizen in a programming language is an entity which supports all the operations generally available to other entities. These operations typically include being passed as an argument, returned from a function, and assigned to a variable."
   ],
   "metadata": {}
  },
  {
   "cell_type": "code",
   "execution_count": null,
   "source": [
    "# Assigning function to a variable\r\n",
    "\r\n",
    "# A function that returns the square of a given number\r\n",
    "def square(x):\r\n",
    "    return x*x\r\n",
    "\r\n",
    "\r\n",
    "f = square\r\n",
    "print(square)\r\n",
    "print(f(5))\r\n"
   ],
   "outputs": [],
   "metadata": {}
  },
  {
   "cell_type": "markdown",
   "source": [
    "## Higher order functions\r\n",
    "A function that takes a function as an argument or returns a function as a result is called a _\"higher order function\"_."
   ],
   "metadata": {}
  },
  {
   "cell_type": "code",
   "execution_count": null,
   "source": [
    "# Let's build our own map function!\r\n",
    "def my_map(func, iterable):\r\n",
    "    result = []\r\n",
    "    for element in iterable:\r\n",
    "        result.append(func(element))\r\n",
    "    return result\r\n",
    "\r\n",
    "# Excercise:\r\n",
    "# Todo 1: Move to comprehension exercises\r\n",
    "# Apply list comprehesions to the map function that we just wrote.\r\n",
    "\r\n",
    "# def my_map(func, iterable):\r\n",
    "#     return [func(i) for i in iterable]\r\n",
    "\r\n",
    "# Let's try it out!\r\n",
    "print(my_map(square, [1, 2, 3, 4, 5]))\r\n",
    "\r\n",
    "def cube(num):\r\n",
    "    return num ** 3\r\n",
    "\r\n",
    "print(my_map(cube, [1, 2, 3, 4, 5]))\r\n",
    "\r\n"
   ],
   "outputs": [],
   "metadata": {}
  },
  {
   "cell_type": "code",
   "execution_count": null,
   "source": [
    "# Returning a function from another function\r\n",
    "def logger(message):\r\n",
    "    def log_message():\r\n",
    "        return f'Log: {message}'\r\n",
    "    return log_message\r\n",
    "\r\n",
    "# Let's say Hi!\r\n",
    "log_hi = logger('Hi!')\r\n",
    "print(log_hi())"
   ],
   "outputs": [],
   "metadata": {}
  },
  {
   "cell_type": "code",
   "execution_count": null,
   "source": [
    "# HTML tag generator\r\n",
    "def html_tag(tag):\r\n",
    "    def wrap_text(msg):\r\n",
    "        return f'<{tag}>{msg}</{tag}>'\r\n",
    "    return wrap_text\r\n",
    "\r\n",
    "h1 = html_tag('h1')\r\n",
    "print(h1.__name__)\r\n",
    "print(h1('Test Headline'))\r\n",
    "\r\n",
    "print(h1('Another Headline!'))\r\n",
    "\r\n",
    "p = html_tag('p')\r\n",
    "print(p('Test Paragraph'))\r\n"
   ],
   "outputs": [],
   "metadata": {}
  },
  {
   "cell_type": "code",
   "execution_count": null,
   "source": [
    "# Exercise:\r\n",
    "# Todo 2: Write a function that takes a function as an argument and returns a function.\r\n",
    "# def operate(func, *args):\r\n",
    "#     return func(*args)\r\n",
    "\r\n",
    "# my_function = operate(square, 5)\r\n",
    "# print(my_function)\r\n",
    "# print(operate(square, 5))"
   ],
   "outputs": [],
   "metadata": {}
  },
  {
   "cell_type": "markdown",
   "source": [
    "## Closures\r\n",
    "A closure is a function that remembers values in enclosing scopes even if they are _not present_ in memory when the function is called.\r\n",
    "\r\n",
    "## Free variables\r\n",
    "Variables that can still be refrenced in the body of a function even if it is not present in memory when the function is called."
   ],
   "metadata": {}
  },
  {
   "cell_type": "code",
   "execution_count": null,
   "source": [
    "# An example of closure\r\n",
    "def outter_func():\r\n",
    "    # message is a free variable!\r\n",
    "    message = 'Hi!'\r\n",
    "    def inner_func():\r\n",
    "        print(message)\r\n",
    "    return inner_func\r\n",
    "\r\n",
    "# func = outter_func()\r\n",
    "# print(func.__name__)\r\n",
    "# func()"
   ],
   "outputs": [],
   "metadata": {}
  },
  {
   "cell_type": "code",
   "execution_count": null,
   "source": [
    "def another_outter_func(msg):\r\n",
    "    message = msg\r\n",
    "    def inner_func():\r\n",
    "        print(message)\r\n",
    "    return inner_func\r\n",
    "hi = another_outter_func('Hi!')\r\n",
    "bye = another_outter_func('Bye!')\r\n",
    "hi()\r\n",
    "bye()"
   ],
   "outputs": [],
   "metadata": {}
  },
  {
   "cell_type": "markdown",
   "source": [
    "### Note:\r\n",
    "A closure closes over the free variables in its enclosing scope."
   ],
   "metadata": {}
  },
  {
   "cell_type": "code",
   "execution_count": 36,
   "source": [
    "# Pipeline Showcase!\r\n",
    "\r\n",
    "def pipeline_component(func, data, args):\r\n",
    "    \"\"\"A pipeline component which is respnonsible for sending functional arguments over\r\n",
    "    to the selected target function.\r\n",
    "    \"\"\"\r\n",
    "\r\n",
    "    return func(data, *args)\r\n",
    "\r\n",
    "\r\n",
    "def pipeline(data: list, components: list):\r\n",
    "    \"\"\"A pipeline component that helps with making filtering easier. It provides\r\n",
    "    access to different filtering mechanism by simplying letting users\r\n",
    "    pass in what filter they want to apply, and the arguments for that filter\r\n",
    "\r\n",
    "    Usage::\r\n",
    "        >>> # assume variables 'data', 'kwargs'\r\n",
    "        >>> pipeline(\r\n",
    "            data=data,\r\n",
    "            components=[\r\n",
    "                {\"filter\": \"square\"},\r\n",
    "                {\"filter\": \"cube\"}\r\n",
    "            ]\r\n",
    "        )\r\n",
    "    \"\"\"\r\n",
    "\r\n",
    "    # Python treats list, dict, tuple, and set objects as passed reference, thus\r\n",
    "    # in order to not modify the previous state, we make a local copy\r\n",
    "    if (\r\n",
    "        isinstance(data, list)\r\n",
    "        or\r\n",
    "        isinstance(data, tuple)\r\n",
    "        or \r\n",
    "        isinstance(data, set)\r\n",
    "        or \r\n",
    "        isinstance(data, dict)\r\n",
    "    ):\r\n",
    "        __data = data.copy()\r\n",
    "    else:\r\n",
    "        __data = data\r\n",
    "    # A mapping of different filters possible\r\n",
    "    function_mappings = {\r\n",
    "        \"square\": square,\r\n",
    "        \"cube\": cube,\r\n",
    "        \"add\": add,\r\n",
    "        # Simply add the mapping of a new function,\r\n",
    "        # nothing else will really need to changed\r\n",
    "    }\r\n",
    "\r\n",
    "    # Going through each of the components\r\n",
    "    for component in components:\r\n",
    "\r\n",
    "        # If component is simply empty, continue to next\r\n",
    "        # iteration\r\n",
    "        if component == {}:\r\n",
    "            continue\r\n",
    "\r\n",
    "        # Send to pipeline component, return data to `__data`\r\n",
    "        __data = pipeline_component(\r\n",
    "            # Map function respectively using the function_mappings dictionary\r\n",
    "            func=function_mappings[f'{component[\"filter\"]}'],\r\n",
    "            # Send over the data\r\n",
    "            data=__data,\r\n",
    "            # Except the filter name, select the rest as args\r\n",
    "            args=tuple(list(component.values())[1:]),\r\n",
    "        )\r\n",
    "\r\n",
    "    # Return the data\r\n",
    "    return __data\r\n",
    "\r\n",
    "def add(x, y):\r\n",
    "    return x + y\r\n",
    "\r\n",
    "data = pipeline(\r\n",
    "    data=2,\r\n",
    "    components=[\r\n",
    "        {\"filter\": \"square\"},\r\n",
    "        {\"filter\": \"cube\"},\r\n",
    "        {\"filter\": \"add\", \"num\": 3},\r\n",
    "    ]\r\n",
    ")\r\n",
    "print(data)\r\n"
   ],
   "outputs": [
    {
     "output_type": "stream",
     "name": "stdout",
     "text": [
      "67\n"
     ]
    }
   ],
   "metadata": {}
  }
 ],
 "metadata": {
  "orig_nbformat": 4,
  "language_info": {
   "name": "python",
   "version": "3.8.5",
   "mimetype": "text/x-python",
   "codemirror_mode": {
    "name": "ipython",
    "version": 3
   },
   "pygments_lexer": "ipython3",
   "nbconvert_exporter": "python",
   "file_extension": ".py"
  },
  "kernelspec": {
   "name": "python3",
   "display_name": "Python 3.8.5 64-bit"
  },
  "interpreter": {
   "hash": "e404b59586357c814bc0d3940e75d6763c00a48753b225b81f7716971b8e1741"
  }
 },
 "nbformat": 4,
 "nbformat_minor": 2
}