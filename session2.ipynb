{
 "cells": [
  {
   "cell_type": "markdown",
   "source": [
    "# Session 2\r\n",
    "\r\n",
    "## Contents: \r\n",
    "- First-Class Citizens in programming\r\n",
    "  - Higher-Order Functions\r\n",
    "  - Closures & Free Variables\r\n",
    "  - Pipeline Showcase\r\n",
    "- Decorators\r\n",
    "- Lambda expressions\r\n",
    "- Comprehensions\r\n"
   ],
   "metadata": {}
  },
  {
   "cell_type": "markdown",
   "source": [
    "## First-Class Functions\r\n",
    "A programming language is said to have first-class functions if treats functions as _\"First-class Citizens\"_\r\n",
    "\r\n",
    "### But what is a __*\"First-Class Citizen\"*__ in programming?\r\n",
    "A first-class citizen in a programming language is an entity which supports all the operations generally available to other entities. These operations typically include being passed as an argument, returned from a function, and assigned to a variable."
   ],
   "metadata": {}
  },
  {
   "cell_type": "code",
   "execution_count": null,
   "source": [
    "# Assigning function to a variable\r\n",
    "\r\n",
    "# A function that returns the square of a given number\r\n",
    "def square(x):\r\n",
    "    return x*x\r\n",
    "\r\n",
    "\r\n",
    "f = square\r\n",
    "print(square)\r\n",
    "print(f(5))"
   ],
   "outputs": [],
   "metadata": {}
  },
  {
   "cell_type": "markdown",
   "source": [
    "## Higher order functions\r\n",
    "A function that takes a function as an argument or returns a function as a result is called a _\"higher order function\"_."
   ],
   "metadata": {}
  },
  {
   "cell_type": "code",
   "execution_count": null,
   "source": [
    "# Let's build our own map function!\r\n",
    "def my_map(func, iterable):\r\n",
    "    result = []\r\n",
    "    for i in iterable:\r\n",
    "        result.append(func(i))\r\n",
    "    return result\r\n",
    "\r\n",
    "print(my_map(square, [1, 2, 3, 4, 5]))\r\n",
    "\r\n",
    "# # Exercise:\r\n",
    "# # Todo 1: Move to comprehension exercises\r\n",
    "# # Apply list comprehesions to the map function that we just wrote.\r\n",
    "\r\n",
    "# # def my_map(func, iterable):\r\n",
    "# #     return [func(i) for i in iterable]\r\n",
    "\r\n",
    "# # Let's try it out!\r\n",
    "# print(my_map(square, [1, 2, 3, 4, 5]))\r\n",
    "\r\n",
    "def cube(num):\r\n",
    "    return num ** 3\r\n",
    "\r\n",
    "print(my_map(cube, [1, 2, 3, 4, 5]))\r\n",
    "\r\n"
   ],
   "outputs": [],
   "metadata": {}
  },
  {
   "cell_type": "code",
   "execution_count": null,
   "source": [
    "# Returning a function from another function\r\n",
    "def logger(msg):\r\n",
    "    def log_message():\r\n",
    "        print('Log:', msg)\r\n",
    "    return log_message\r\n",
    "\r\n",
    "\r\n",
    "# Let's say Hi!\r\n",
    "log_hi = logger('Hi!')\r\n",
    "# print(log_hi())\r\n",
    "print(log_hi.__name__)\r\n",
    "log_hi()"
   ],
   "outputs": [],
   "metadata": {}
  },
  {
   "cell_type": "code",
   "execution_count": null,
   "source": [
    "# HTML tag generator\r\n",
    "def html_tag(tag):\r\n",
    "    def wrap_text(msg):\r\n",
    "        return f'<{tag}>{msg}</{tag}>'\r\n",
    "    return wrap_text\r\n",
    "\r\n",
    "h1 = html_tag('h1')\r\n",
    "print(h1.__name__)\r\n",
    "print(h1('Test Headline'))\r\n",
    "\r\n",
    "print(h1('Another Headline!'))\r\n",
    "\r\n",
    "p = html_tag('p')\r\n",
    "print(p('Test Paragraph'))\r\n"
   ],
   "outputs": [],
   "metadata": {}
  },
  {
   "cell_type": "code",
   "execution_count": null,
   "source": [
    "# Exercise:\r\n",
    "# Todo 2: Write a function that takes a function as an argument and returns a function.\r\n",
    "def operate(func, *args):\r\n",
    "    return func(*args)\r\n",
    "def add(x, y):\r\n",
    "    return x + y\r\n",
    "my_function = operate(square, 5)\r\n",
    "print(my_function)\r\n",
    "print(operate(square, 5))"
   ],
   "outputs": [],
   "metadata": {}
  },
  {
   "cell_type": "markdown",
   "source": [
    "## Closures\r\n",
    "A closure is a function that remembers values in enclosing scopes even if they are _not present_ in memory when the function is called.\r\n",
    "\r\n",
    "## Free variables\r\n",
    "Variables that can still be refrenced in the body of a function even if it is not present in memory when the function is called."
   ],
   "metadata": {}
  },
  {
   "cell_type": "code",
   "execution_count": null,
   "source": [
    "# An example of closure\r\n",
    "def outter_func():\r\n",
    "    # message is a free variable!\r\n",
    "    message = 'Hi!'\r\n",
    "    def inner_func():\r\n",
    "        print(message)\r\n",
    "    return inner_func\r\n",
    "\r\n",
    "func = outter_func()\r\n",
    "print(func.__name__)\r\n",
    "func()"
   ],
   "outputs": [],
   "metadata": {}
  },
  {
   "cell_type": "code",
   "execution_count": null,
   "source": [
    "def another_outter_func(msg):\r\n",
    "    message = msg\r\n",
    "    def inner_func():\r\n",
    "        print(message)\r\n",
    "    return inner_func\r\n",
    "hi = another_outter_func('Hi!')\r\n",
    "bye = another_outter_func('Bye!')\r\n",
    "hi()\r\n",
    "bye()"
   ],
   "outputs": [],
   "metadata": {}
  },
  {
   "cell_type": "markdown",
   "source": [
    "### Note:\r\n",
    "A closure closes over the free variables in its enclosing scope."
   ],
   "metadata": {}
  },
  {
   "cell_type": "code",
   "execution_count": null,
   "source": [
    "# Pipeline Showcase!\r\n",
    "\r\n",
    "def pipeline_component(func, data, args):\r\n",
    "    return func(data, *args)\r\n",
    "\r\n",
    "\r\n",
    "def pipeline(data: list, components: list):\r\n",
    "\r\n",
    "    # Python treats list, dict, tuple, and set objects as passed reference, thus\r\n",
    "    # in order to not modify the previous state, we make a local copy\r\n",
    "    if (\r\n",
    "        isinstance(data, list)\r\n",
    "        or\r\n",
    "        isinstance(data, tuple)\r\n",
    "        or \r\n",
    "        isinstance(data, set)\r\n",
    "        or \r\n",
    "        isinstance(data, dict)\r\n",
    "    ):\r\n",
    "        __data = data.copy()\r\n",
    "    else:\r\n",
    "        __data = data\r\n",
    "    # A mapping of different filters possible\r\n",
    "    function_mappings = {\r\n",
    "        \"square\": square,\r\n",
    "        \"cube\": cube,\r\n",
    "        \"add\": add,\r\n",
    "        # Simply add the mapping of a new function,\r\n",
    "        # nothing else will really need to changed\r\n",
    "    }\r\n",
    "\r\n",
    "    # Going through each of the components\r\n",
    "    for component in components:\r\n",
    "\r\n",
    "        # If component is simply empty, continue to next\r\n",
    "        # iteration\r\n",
    "        if component == {}:\r\n",
    "            continue\r\n",
    "\r\n",
    "        # Send to pipeline component, return data to `__data`\r\n",
    "        __data = pipeline_component(\r\n",
    "            # Map function respectively using the function_mappings dictionary\r\n",
    "            func=function_mappings[f'{component[\"filter\"]}'],\r\n",
    "            # Send over the data\r\n",
    "            data=__data,\r\n",
    "            # Except the filter name, select the rest as args\r\n",
    "            args=tuple(list(component.values())[1:]),\r\n",
    "        )\r\n",
    "\r\n",
    "    # Return the data\r\n",
    "    return __data\r\n",
    "\r\n",
    "def add(x, y):\r\n",
    "    return x + y\r\n",
    "\r\n",
    "data = pipeline(\r\n",
    "    data=2,\r\n",
    "    components=[\r\n",
    "        {\"filter\": \"square\"},\r\n",
    "        {\"filter\": \"cube\"},\r\n",
    "        {\"filter\": \"add\", \"num\": 3},\r\n",
    "    ]\r\n",
    ")\r\n",
    "print(data)\r\n"
   ],
   "outputs": [],
   "metadata": {}
  },
  {
   "cell_type": "markdown",
   "source": [
    "## Decorators\r\n",
    "Decorators are a way to modify the behavior of a function without modifying the function itself. It takes a function as a parameter and returns a modified function with the altered/added behavior."
   ],
   "metadata": {}
  },
  {
   "cell_type": "code",
   "execution_count": null,
   "source": [
    "def decorator_function(original_function):\r\n",
    "    def wrapper_function():\r\n",
    "        print('wrapper executed this before \"{}\"'.format(original_function.__name__))\r\n",
    "        return original_function()\r\n",
    "    return wrapper_function\r\n",
    "\r\n",
    "def display():\r\n",
    "    print('display function ran')\r\n",
    "\r\n",
    "decorated_display = decorator_function(display)\r\n",
    "decorated_display()\r\n",
    "\r\n",
    "# ! This is kinda a wacky syntax, decorators can be way cooler than this!"
   ],
   "outputs": [],
   "metadata": {}
  },
  {
   "cell_type": "code",
   "execution_count": null,
   "source": [
    "# ! Behold, the cooler way to do this!\r\n",
    "@decorator_function\r\n",
    "def display():\r\n",
    "    print('display function ran')\r\n",
    "\r\n",
    "display()"
   ],
   "outputs": [],
   "metadata": {}
  },
  {
   "cell_type": "code",
   "execution_count": null,
   "source": [
    "# What if we want to decorate a function that already has arguments?\r\n",
    "def display_info(name, age):\r\n",
    "    print('display_info ran with arguments ({}, {})'.format(name, age))\r\n",
    "\r\n",
    "display_info('Omar', 22)\r\n",
    "\r\n",
    "# Let's try decorating it with the decorator_function decortor\r\n",
    "@decorator_function\r\n",
    "def display_info_with_arguments(name, age):\r\n",
    "    print('display_info_with_arguments ran with arguments ({}, {})'.format(name, age))\r\n",
    "\r\n",
    "display_info_with_arguments('Omar', 22)\r\n",
    "\r\n",
    "# Will this work? why/why not? No, it won't work because wrapper function does not\r\n",
    "# accept any args!\r\n"
   ],
   "outputs": [],
   "metadata": {}
  },
  {
   "cell_type": "code",
   "execution_count": null,
   "source": [
    "def decorator_function_with_parameters(original_function):\r\n",
    "    def wrapper_function(*args, **kwargs):\r\n",
    "        print('wrapper executed this before \"{}\"'.format(original_function.__name__))\r\n",
    "        return original_function(*args, **kwargs)\r\n",
    "    return wrapper_function\r\n",
    "\r\n",
    "# Let's try decorating it with the new decortor now\r\n",
    "@decorator_function_with_parameters\r\n",
    "def display_info(name, age):\r\n",
    "    print('display_info ran with arguments ({}, {})'.format(name, age))\r\n",
    "\r\n",
    "display_info('Omar', 22)"
   ],
   "outputs": [],
   "metadata": {}
  },
  {
   "cell_type": "markdown",
   "source": [
    "## Decorators as Classes"
   ],
   "metadata": {}
  },
  {
   "cell_type": "code",
   "execution_count": null,
   "source": [
    "# Decorator class\r\n",
    "class decorator_class(object):\r\n",
    "    def __init__(self, original_function):\r\n",
    "        self.original_function = original_function\r\n",
    "    \r\n",
    "    def __call__(self, *args, **kwargs):\r\n",
    "        print('call method executed this before \"{}\"'.format(self.original_function.__name__))\r\n",
    "        return self.original_function(*args, **kwargs)\r\n",
    "    \r\n",
    "# Let's try decorating it with the new decortor class now\r\n",
    "@decorator_class\r\n",
    "def display_info(name, age):\r\n",
    "    print('display_info ran with arguments ({}, {})'.format(name, age))\r\n",
    "\r\n",
    "display_info('Omar', 22)\r\n"
   ],
   "outputs": [],
   "metadata": {}
  },
  {
   "cell_type": "markdown",
   "source": [
    "### Practical Examples for Using Decorators"
   ],
   "metadata": {}
  },
  {
   "cell_type": "code",
   "execution_count": null,
   "source": [
    "# Keeping track of different functions activities using logging\r\n",
    "from functools import wraps\r\n",
    "def logger(func):\r\n",
    "    import logging\r\n",
    "    logging.basicConfig(filename=f'{func.__name__}.log', level=logging.INFO)\r\n",
    "\r\n",
    "    @wraps(func)\r\n",
    "    def wrapper(*args, **kwargs):\r\n",
    "        logging.info(f'Ran with args: {args}, and kwargs: {kwargs}')\r\n",
    "        return func(*args, **kwargs)\r\n",
    "    return wrapper\r\n",
    "\r\n",
    "@logger\r\n",
    "def display_info(name, age):\r\n",
    "    print('display_info ran with arguments ({}, {})'.format(name, age))\r\n",
    "\r\n",
    "display_info('Aya', 18)\r\n",
    "display_info('Mariam', 21)\r\n"
   ],
   "outputs": [],
   "metadata": {}
  },
  {
   "cell_type": "code",
   "execution_count": null,
   "source": [
    "# Track the time it takes to run a function\r\n",
    "\r\n",
    "from time import time, sleep\r\n",
    "\r\n",
    "def time_it(func):\r\n",
    "    print(func.__name__)\r\n",
    "\r\n",
    "    @wraps(func)\r\n",
    "    def wrapper(*args, **kwargs):\r\n",
    "        t1 = time()\r\n",
    "        result = func(*args, **kwargs)\r\n",
    "        t2 = time()\r\n",
    "        print(f'{func.__name__} ran in {t2-t1} seconds')\r\n",
    "        return result\r\n",
    "    return wrapper\r\n",
    "\r\n",
    "@time_it\r\n",
    "def display_info(name, age):\r\n",
    "    sleep(1)\r\n",
    "    print('display_info ran with arguments ({}, {})'.format(name, age))\r\n",
    "\r\n",
    "display_info('Mazen', 22)\r\n"
   ],
   "outputs": [],
   "metadata": {}
  },
  {
   "cell_type": "code",
   "execution_count": null,
   "source": [
    "# Using multiple decorators\r\n",
    "from time import sleep\r\n",
    "\r\n",
    "@time_it\r\n",
    "@logger\r\n",
    "def display_info(name, age):\r\n",
    "    sleep(1)\r\n",
    "    print('display_info ran with arguments ({}, {})'.format(name, age))\r\n",
    "\r\n",
    "display_info('Michael', 20)"
   ],
   "outputs": [],
   "metadata": {}
  },
  {
   "cell_type": "markdown",
   "source": [
    "## Lambda expressions\r\n",
    "Lambda expressions are a way to create anonymous functions in Python.\r\n",
    "\r\n",
    "### Anonymous Functions\r\n",
    "Functions that are defined without a name are called _\"anonymous functions\"_ or _\"lambda functions\"_."
   ],
   "metadata": {}
  },
  {
   "cell_type": "code",
   "execution_count": null,
   "source": [
    "# Difference between regular functions and lambda functions\r\n",
    "# Regular functions\r\n",
    "def add(x, y):\r\n",
    "    return x + y\r\n",
    "print(add(3, 4))\r\n",
    "\r\n",
    "# Lambda functions\r\n",
    "lambda_add = lambda x, y: x + y\r\n",
    "print(lambda_add(3, 4))\r\n",
    "\r\n",
    "# How can nameless functions be useful?\r\n",
    "# ! This is a very common use case\r\n",
    "squares = my_map(lambda x: x*2, [1, 2, 3, 4, 5])\r\n",
    "print(squares)\r\n",
    "\r\n",
    "# Combine first and last name into a single \"Full Name\"\r\n",
    "full_name = lambda fn, ln: fn.strip().title() + \" \" + ln.strip().title()\r\n",
    "print(full_name(\"   Ahmed   \", \"   Ali   \"))"
   ],
   "outputs": [],
   "metadata": {}
  },
  {
   "cell_type": "code",
   "execution_count": null,
   "source": [
    "# Lambda functions as a key to sort a list of dictionaries\r\n",
    "# ! This is a very common use case\r\n",
    "people = [\r\n",
    "    {\"name\": \"Michael\", \"age\": 20},\r\n",
    "    {\"name\": \"Marwa\", \"age\": 19},\r\n",
    "    {\"name\": \"Ahmed\", \"age\": 25},\r\n",
    "    {\"name\": \"Sohila\", \"age\": 23}\r\n",
    "]\r\n",
    "\r\n",
    "# sorting people by last name\r\n",
    "people.sort(key=lambda person: person['age'])\r\n",
    "print(people)\r\n",
    "\r\n",
    "scifi_authors = [\r\n",
    "    \"Isaac Asimov\", \r\n",
    "    \"Ray Bradbury\", \r\n",
    "    \"Robert Heinlein\", \r\n",
    "    \"Arthus C. Clarke\", \r\n",
    "    \"Frank Herbert\", \r\n",
    "    \"Orson Scott Card\", \r\n",
    "    \"Douglas Adams\", \r\n",
    "    \"H. G. Wells\", \r\n",
    "    \"Leigh Brackett\"\r\n",
    "]\r\n",
    "\r\n",
    "# Case insensitive sorting by last name\r\n",
    "scifi_authors.sort(key=lambda name: name.split(\" \")[-1].lower())\r\n",
    "print(scifi_authors)"
   ],
   "outputs": [],
   "metadata": {}
  },
  {
   "cell_type": "markdown",
   "source": [
    "## Note:\r\n",
    "Lambda expressions cannot be used as multi-line functions."
   ],
   "metadata": {}
  },
  {
   "cell_type": "code",
   "execution_count": null,
   "source": [],
   "outputs": [],
   "metadata": {}
  }
 ],
 "metadata": {
  "orig_nbformat": 4,
  "language_info": {
   "name": "python",
   "version": "3.8.5",
   "mimetype": "text/x-python",
   "codemirror_mode": {
    "name": "ipython",
    "version": 3
   },
   "pygments_lexer": "ipython3",
   "nbconvert_exporter": "python",
   "file_extension": ".py"
  },
  "kernelspec": {
   "name": "python3",
   "display_name": "Python 3.8.5 64-bit"
  },
  "interpreter": {
   "hash": "e404b59586357c814bc0d3940e75d6763c00a48753b225b81f7716971b8e1741"
  }
 },
 "nbformat": 4,
 "nbformat_minor": 2
}